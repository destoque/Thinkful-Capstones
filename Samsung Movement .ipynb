{
 "cells": [
  {
   "cell_type": "code",
   "execution_count": 1,
   "metadata": {},
   "outputs": [],
   "source": [
    "import pandas as pd\n",
    "from matplotlib import pyplot as plt\n",
    "import numpy as np\n",
    "import math\n",
    "import seaborn as sns\n",
    "import sklearn\n",
    "from sklearn import linear_model\n",
    "from sklearn.linear_model import LogisticRegression\n",
    "from sklearn.model_selection import cross_val_score\n",
    "from sklearn import preprocessing\n",
    "%matplotlib inline\n",
    "sns.set_style('white')\n",
    "#pd.options.display.float_format = '{:.3f}'.format\n",
    "import time\n",
    "\n",
    "from sklearn import ensemble\n",
    "from sklearn import datasets\n",
    "from sklearn.utils import shuffle\n",
    "from sklearn.metrics import mean_squared_error"
   ]
  },
  {
   "cell_type": "markdown",
   "metadata": {},
   "source": [
    "## Research Questions\n",
    "\n",
    "- What variables are best at predicting Human Activity?\n",
    "- Can models accurately predict human activity?\n",
    "- What modela are most accurate?\n",
    "- Verify if all column variables are unique.\n",
    "- Verify and abnormalities in dataset (eg., Nan, blanks, inf., -, or any other unnecessary symbols).\n",
    "- Check if the training dataset is balanced. \n",
    "- Investigate correlation among independent variables. \n",
    "- Investigate variable importance among independent variables, disgarding any irrevelant independent variables. "
   ]
  },
  {
   "cell_type": "code",
   "execution_count": 2,
   "metadata": {},
   "outputs": [],
   "source": [
    "samsung_test_data = pd.read_csv('C:\\\\Users\\\\david\\Desktop\\\\thinkful datasets\\\\test.csv')\n",
    "samsung_train_data = pd.read_csv('C:\\\\Users\\\\david\\Desktop\\\\thinkful datasets\\\\train.csv')\n"
   ]
  },
  {
   "cell_type": "code",
   "execution_count": 3,
   "metadata": {},
   "outputs": [
    {
     "data": {
      "text/html": [
       "<div>\n",
       "<style scoped>\n",
       "    .dataframe tbody tr th:only-of-type {\n",
       "        vertical-align: middle;\n",
       "    }\n",
       "\n",
       "    .dataframe tbody tr th {\n",
       "        vertical-align: top;\n",
       "    }\n",
       "\n",
       "    .dataframe thead th {\n",
       "        text-align: right;\n",
       "    }\n",
       "</style>\n",
       "<table border=\"1\" class=\"dataframe\">\n",
       "  <thead>\n",
       "    <tr style=\"text-align: right;\">\n",
       "      <th></th>\n",
       "      <th>tBodyAcc-mean()-X</th>\n",
       "      <th>tBodyAcc-mean()-Y</th>\n",
       "      <th>tBodyAcc-mean()-Z</th>\n",
       "      <th>tBodyAcc-std()-X</th>\n",
       "      <th>tBodyAcc-std()-Y</th>\n",
       "      <th>tBodyAcc-std()-Z</th>\n",
       "      <th>tBodyAcc-mad()-X</th>\n",
       "      <th>tBodyAcc-mad()-Y</th>\n",
       "      <th>tBodyAcc-mad()-Z</th>\n",
       "      <th>tBodyAcc-max()-X</th>\n",
       "      <th>...</th>\n",
       "      <th>fBodyBodyGyroJerkMag-kurtosis()</th>\n",
       "      <th>angle(tBodyAccMean,gravity)</th>\n",
       "      <th>angle(tBodyAccJerkMean),gravityMean)</th>\n",
       "      <th>angle(tBodyGyroMean,gravityMean)</th>\n",
       "      <th>angle(tBodyGyroJerkMean,gravityMean)</th>\n",
       "      <th>angle(X,gravityMean)</th>\n",
       "      <th>angle(Y,gravityMean)</th>\n",
       "      <th>angle(Z,gravityMean)</th>\n",
       "      <th>subject</th>\n",
       "      <th>Activity</th>\n",
       "    </tr>\n",
       "  </thead>\n",
       "  <tbody>\n",
       "    <tr>\n",
       "      <th>0</th>\n",
       "      <td>0.257178</td>\n",
       "      <td>-0.023285</td>\n",
       "      <td>-0.014654</td>\n",
       "      <td>-0.938404</td>\n",
       "      <td>-0.920091</td>\n",
       "      <td>-0.667683</td>\n",
       "      <td>-0.952501</td>\n",
       "      <td>-0.925249</td>\n",
       "      <td>-0.674302</td>\n",
       "      <td>-0.894088</td>\n",
       "      <td>...</td>\n",
       "      <td>-0.705974</td>\n",
       "      <td>0.006462</td>\n",
       "      <td>0.162920</td>\n",
       "      <td>-0.825886</td>\n",
       "      <td>0.271151</td>\n",
       "      <td>-0.720009</td>\n",
       "      <td>0.276801</td>\n",
       "      <td>-0.057978</td>\n",
       "      <td>2</td>\n",
       "      <td>STANDING</td>\n",
       "    </tr>\n",
       "    <tr>\n",
       "      <th>1</th>\n",
       "      <td>0.286027</td>\n",
       "      <td>-0.013163</td>\n",
       "      <td>-0.119083</td>\n",
       "      <td>-0.975415</td>\n",
       "      <td>-0.967458</td>\n",
       "      <td>-0.944958</td>\n",
       "      <td>-0.986799</td>\n",
       "      <td>-0.968401</td>\n",
       "      <td>-0.945823</td>\n",
       "      <td>-0.894088</td>\n",
       "      <td>...</td>\n",
       "      <td>-0.594944</td>\n",
       "      <td>-0.083495</td>\n",
       "      <td>0.017500</td>\n",
       "      <td>-0.434375</td>\n",
       "      <td>0.920593</td>\n",
       "      <td>-0.698091</td>\n",
       "      <td>0.281343</td>\n",
       "      <td>-0.083898</td>\n",
       "      <td>2</td>\n",
       "      <td>STANDING</td>\n",
       "    </tr>\n",
       "    <tr>\n",
       "      <th>2</th>\n",
       "      <td>0.275485</td>\n",
       "      <td>-0.026050</td>\n",
       "      <td>-0.118152</td>\n",
       "      <td>-0.993819</td>\n",
       "      <td>-0.969926</td>\n",
       "      <td>-0.962748</td>\n",
       "      <td>-0.994403</td>\n",
       "      <td>-0.970735</td>\n",
       "      <td>-0.963483</td>\n",
       "      <td>-0.939260</td>\n",
       "      <td>...</td>\n",
       "      <td>-0.640736</td>\n",
       "      <td>-0.034956</td>\n",
       "      <td>0.202302</td>\n",
       "      <td>0.064103</td>\n",
       "      <td>0.145068</td>\n",
       "      <td>-0.702771</td>\n",
       "      <td>0.280083</td>\n",
       "      <td>-0.079346</td>\n",
       "      <td>2</td>\n",
       "      <td>STANDING</td>\n",
       "    </tr>\n",
       "    <tr>\n",
       "      <th>3</th>\n",
       "      <td>0.270298</td>\n",
       "      <td>-0.032614</td>\n",
       "      <td>-0.117520</td>\n",
       "      <td>-0.994743</td>\n",
       "      <td>-0.973268</td>\n",
       "      <td>-0.967091</td>\n",
       "      <td>-0.995274</td>\n",
       "      <td>-0.974471</td>\n",
       "      <td>-0.968897</td>\n",
       "      <td>-0.938610</td>\n",
       "      <td>...</td>\n",
       "      <td>-0.736124</td>\n",
       "      <td>-0.017067</td>\n",
       "      <td>0.154438</td>\n",
       "      <td>0.340134</td>\n",
       "      <td>0.296407</td>\n",
       "      <td>-0.698954</td>\n",
       "      <td>0.284114</td>\n",
       "      <td>-0.077108</td>\n",
       "      <td>2</td>\n",
       "      <td>STANDING</td>\n",
       "    </tr>\n",
       "    <tr>\n",
       "      <th>4</th>\n",
       "      <td>0.274833</td>\n",
       "      <td>-0.027848</td>\n",
       "      <td>-0.129527</td>\n",
       "      <td>-0.993852</td>\n",
       "      <td>-0.967445</td>\n",
       "      <td>-0.978295</td>\n",
       "      <td>-0.994111</td>\n",
       "      <td>-0.965953</td>\n",
       "      <td>-0.977346</td>\n",
       "      <td>-0.938610</td>\n",
       "      <td>...</td>\n",
       "      <td>-0.846595</td>\n",
       "      <td>-0.002223</td>\n",
       "      <td>-0.040046</td>\n",
       "      <td>0.736715</td>\n",
       "      <td>-0.118545</td>\n",
       "      <td>-0.692245</td>\n",
       "      <td>0.290722</td>\n",
       "      <td>-0.073857</td>\n",
       "      <td>2</td>\n",
       "      <td>STANDING</td>\n",
       "    </tr>\n",
       "  </tbody>\n",
       "</table>\n",
       "<p>5 rows × 563 columns</p>\n",
       "</div>"
      ],
      "text/plain": [
       "   tBodyAcc-mean()-X  tBodyAcc-mean()-Y  tBodyAcc-mean()-Z  tBodyAcc-std()-X  \\\n",
       "0           0.257178          -0.023285          -0.014654         -0.938404   \n",
       "1           0.286027          -0.013163          -0.119083         -0.975415   \n",
       "2           0.275485          -0.026050          -0.118152         -0.993819   \n",
       "3           0.270298          -0.032614          -0.117520         -0.994743   \n",
       "4           0.274833          -0.027848          -0.129527         -0.993852   \n",
       "\n",
       "   tBodyAcc-std()-Y  tBodyAcc-std()-Z  tBodyAcc-mad()-X  tBodyAcc-mad()-Y  \\\n",
       "0         -0.920091         -0.667683         -0.952501         -0.925249   \n",
       "1         -0.967458         -0.944958         -0.986799         -0.968401   \n",
       "2         -0.969926         -0.962748         -0.994403         -0.970735   \n",
       "3         -0.973268         -0.967091         -0.995274         -0.974471   \n",
       "4         -0.967445         -0.978295         -0.994111         -0.965953   \n",
       "\n",
       "   tBodyAcc-mad()-Z  tBodyAcc-max()-X    ...     \\\n",
       "0         -0.674302         -0.894088    ...      \n",
       "1         -0.945823         -0.894088    ...      \n",
       "2         -0.963483         -0.939260    ...      \n",
       "3         -0.968897         -0.938610    ...      \n",
       "4         -0.977346         -0.938610    ...      \n",
       "\n",
       "   fBodyBodyGyroJerkMag-kurtosis()  angle(tBodyAccMean,gravity)  \\\n",
       "0                        -0.705974                     0.006462   \n",
       "1                        -0.594944                    -0.083495   \n",
       "2                        -0.640736                    -0.034956   \n",
       "3                        -0.736124                    -0.017067   \n",
       "4                        -0.846595                    -0.002223   \n",
       "\n",
       "   angle(tBodyAccJerkMean),gravityMean)  angle(tBodyGyroMean,gravityMean)  \\\n",
       "0                              0.162920                         -0.825886   \n",
       "1                              0.017500                         -0.434375   \n",
       "2                              0.202302                          0.064103   \n",
       "3                              0.154438                          0.340134   \n",
       "4                             -0.040046                          0.736715   \n",
       "\n",
       "   angle(tBodyGyroJerkMean,gravityMean)  angle(X,gravityMean)  \\\n",
       "0                              0.271151             -0.720009   \n",
       "1                              0.920593             -0.698091   \n",
       "2                              0.145068             -0.702771   \n",
       "3                              0.296407             -0.698954   \n",
       "4                             -0.118545             -0.692245   \n",
       "\n",
       "   angle(Y,gravityMean)  angle(Z,gravityMean)  subject  Activity  \n",
       "0              0.276801             -0.057978        2  STANDING  \n",
       "1              0.281343             -0.083898        2  STANDING  \n",
       "2              0.280083             -0.079346        2  STANDING  \n",
       "3              0.284114             -0.077108        2  STANDING  \n",
       "4              0.290722             -0.073857        2  STANDING  \n",
       "\n",
       "[5 rows x 563 columns]"
      ]
     },
     "execution_count": 3,
     "metadata": {},
     "output_type": "execute_result"
    }
   ],
   "source": [
    "#30% of data\n",
    "\n",
    "samsung_test_data.head(5)"
   ]
  },
  {
   "cell_type": "code",
   "execution_count": 4,
   "metadata": {},
   "outputs": [
    {
     "data": {
      "text/html": [
       "<div>\n",
       "<style scoped>\n",
       "    .dataframe tbody tr th:only-of-type {\n",
       "        vertical-align: middle;\n",
       "    }\n",
       "\n",
       "    .dataframe tbody tr th {\n",
       "        vertical-align: top;\n",
       "    }\n",
       "\n",
       "    .dataframe thead th {\n",
       "        text-align: right;\n",
       "    }\n",
       "</style>\n",
       "<table border=\"1\" class=\"dataframe\">\n",
       "  <thead>\n",
       "    <tr style=\"text-align: right;\">\n",
       "      <th></th>\n",
       "      <th>tBodyAcc-mean()-X</th>\n",
       "      <th>tBodyAcc-mean()-Y</th>\n",
       "      <th>tBodyAcc-mean()-Z</th>\n",
       "      <th>tBodyAcc-std()-X</th>\n",
       "      <th>tBodyAcc-std()-Y</th>\n",
       "      <th>tBodyAcc-std()-Z</th>\n",
       "      <th>tBodyAcc-mad()-X</th>\n",
       "      <th>tBodyAcc-mad()-Y</th>\n",
       "      <th>tBodyAcc-mad()-Z</th>\n",
       "      <th>tBodyAcc-max()-X</th>\n",
       "      <th>...</th>\n",
       "      <th>fBodyBodyGyroJerkMag-skewness()</th>\n",
       "      <th>fBodyBodyGyroJerkMag-kurtosis()</th>\n",
       "      <th>angle(tBodyAccMean,gravity)</th>\n",
       "      <th>angle(tBodyAccJerkMean),gravityMean)</th>\n",
       "      <th>angle(tBodyGyroMean,gravityMean)</th>\n",
       "      <th>angle(tBodyGyroJerkMean,gravityMean)</th>\n",
       "      <th>angle(X,gravityMean)</th>\n",
       "      <th>angle(Y,gravityMean)</th>\n",
       "      <th>angle(Z,gravityMean)</th>\n",
       "      <th>subject</th>\n",
       "    </tr>\n",
       "  </thead>\n",
       "  <tbody>\n",
       "    <tr>\n",
       "      <th>count</th>\n",
       "      <td>2947.000000</td>\n",
       "      <td>2947.000000</td>\n",
       "      <td>2947.000000</td>\n",
       "      <td>2947.000000</td>\n",
       "      <td>2947.000000</td>\n",
       "      <td>2947.000000</td>\n",
       "      <td>2947.000000</td>\n",
       "      <td>2947.000000</td>\n",
       "      <td>2947.000000</td>\n",
       "      <td>2947.000000</td>\n",
       "      <td>...</td>\n",
       "      <td>2947.000000</td>\n",
       "      <td>2947.000000</td>\n",
       "      <td>2947.000000</td>\n",
       "      <td>2947.000000</td>\n",
       "      <td>2947.000000</td>\n",
       "      <td>2947.000000</td>\n",
       "      <td>2947.000000</td>\n",
       "      <td>2947.000000</td>\n",
       "      <td>2947.000000</td>\n",
       "      <td>2947.000000</td>\n",
       "    </tr>\n",
       "    <tr>\n",
       "      <th>mean</th>\n",
       "      <td>0.273996</td>\n",
       "      <td>-0.017863</td>\n",
       "      <td>-0.108386</td>\n",
       "      <td>-0.613635</td>\n",
       "      <td>-0.508330</td>\n",
       "      <td>-0.633797</td>\n",
       "      <td>-0.641278</td>\n",
       "      <td>-0.522676</td>\n",
       "      <td>-0.637038</td>\n",
       "      <td>-0.462063</td>\n",
       "      <td>...</td>\n",
       "      <td>-0.277593</td>\n",
       "      <td>-0.598756</td>\n",
       "      <td>0.005264</td>\n",
       "      <td>0.003799</td>\n",
       "      <td>0.040029</td>\n",
       "      <td>-0.017298</td>\n",
       "      <td>-0.513923</td>\n",
       "      <td>0.074886</td>\n",
       "      <td>-0.048720</td>\n",
       "      <td>12.986427</td>\n",
       "    </tr>\n",
       "    <tr>\n",
       "      <th>std</th>\n",
       "      <td>0.060570</td>\n",
       "      <td>0.025745</td>\n",
       "      <td>0.042747</td>\n",
       "      <td>0.412597</td>\n",
       "      <td>0.494269</td>\n",
       "      <td>0.362699</td>\n",
       "      <td>0.385199</td>\n",
       "      <td>0.479899</td>\n",
       "      <td>0.357753</td>\n",
       "      <td>0.523916</td>\n",
       "      <td>...</td>\n",
       "      <td>0.317245</td>\n",
       "      <td>0.311042</td>\n",
       "      <td>0.336147</td>\n",
       "      <td>0.445077</td>\n",
       "      <td>0.634989</td>\n",
       "      <td>0.501311</td>\n",
       "      <td>0.509205</td>\n",
       "      <td>0.324300</td>\n",
       "      <td>0.241467</td>\n",
       "      <td>6.950984</td>\n",
       "    </tr>\n",
       "    <tr>\n",
       "      <th>min</th>\n",
       "      <td>-0.592004</td>\n",
       "      <td>-0.362884</td>\n",
       "      <td>-0.576184</td>\n",
       "      <td>-0.999606</td>\n",
       "      <td>-1.000000</td>\n",
       "      <td>-0.998955</td>\n",
       "      <td>-0.999417</td>\n",
       "      <td>-0.999914</td>\n",
       "      <td>-0.998899</td>\n",
       "      <td>-0.952357</td>\n",
       "      <td>...</td>\n",
       "      <td>-1.000000</td>\n",
       "      <td>-1.000000</td>\n",
       "      <td>-1.000000</td>\n",
       "      <td>-0.993402</td>\n",
       "      <td>-0.998898</td>\n",
       "      <td>-0.991096</td>\n",
       "      <td>-0.984195</td>\n",
       "      <td>-0.913704</td>\n",
       "      <td>-0.949228</td>\n",
       "      <td>2.000000</td>\n",
       "    </tr>\n",
       "    <tr>\n",
       "      <th>25%</th>\n",
       "      <td>0.262075</td>\n",
       "      <td>-0.024961</td>\n",
       "      <td>-0.121162</td>\n",
       "      <td>-0.990914</td>\n",
       "      <td>-0.973664</td>\n",
       "      <td>-0.976122</td>\n",
       "      <td>-0.992333</td>\n",
       "      <td>-0.974131</td>\n",
       "      <td>-0.975352</td>\n",
       "      <td>-0.934447</td>\n",
       "      <td>...</td>\n",
       "      <td>-0.517494</td>\n",
       "      <td>-0.829593</td>\n",
       "      <td>-0.130541</td>\n",
       "      <td>-0.282600</td>\n",
       "      <td>-0.518924</td>\n",
       "      <td>-0.428375</td>\n",
       "      <td>-0.829722</td>\n",
       "      <td>0.022140</td>\n",
       "      <td>-0.098485</td>\n",
       "      <td>9.000000</td>\n",
       "    </tr>\n",
       "    <tr>\n",
       "      <th>50%</th>\n",
       "      <td>0.277113</td>\n",
       "      <td>-0.016967</td>\n",
       "      <td>-0.108458</td>\n",
       "      <td>-0.931214</td>\n",
       "      <td>-0.790972</td>\n",
       "      <td>-0.827534</td>\n",
       "      <td>-0.937664</td>\n",
       "      <td>-0.799907</td>\n",
       "      <td>-0.817005</td>\n",
       "      <td>-0.852659</td>\n",
       "      <td>...</td>\n",
       "      <td>-0.311023</td>\n",
       "      <td>-0.683672</td>\n",
       "      <td>0.005188</td>\n",
       "      <td>0.006767</td>\n",
       "      <td>0.047113</td>\n",
       "      <td>-0.026726</td>\n",
       "      <td>-0.729648</td>\n",
       "      <td>0.181563</td>\n",
       "      <td>-0.010671</td>\n",
       "      <td>12.000000</td>\n",
       "    </tr>\n",
       "    <tr>\n",
       "      <th>75%</th>\n",
       "      <td>0.288097</td>\n",
       "      <td>-0.010143</td>\n",
       "      <td>-0.097123</td>\n",
       "      <td>-0.267395</td>\n",
       "      <td>-0.105919</td>\n",
       "      <td>-0.311432</td>\n",
       "      <td>-0.321719</td>\n",
       "      <td>-0.133488</td>\n",
       "      <td>-0.322771</td>\n",
       "      <td>-0.009965</td>\n",
       "      <td>...</td>\n",
       "      <td>-0.083559</td>\n",
       "      <td>-0.458332</td>\n",
       "      <td>0.146200</td>\n",
       "      <td>0.288113</td>\n",
       "      <td>0.622151</td>\n",
       "      <td>0.394387</td>\n",
       "      <td>-0.545939</td>\n",
       "      <td>0.260252</td>\n",
       "      <td>0.092373</td>\n",
       "      <td>18.000000</td>\n",
       "    </tr>\n",
       "    <tr>\n",
       "      <th>max</th>\n",
       "      <td>0.671887</td>\n",
       "      <td>0.246106</td>\n",
       "      <td>0.494114</td>\n",
       "      <td>0.465299</td>\n",
       "      <td>1.000000</td>\n",
       "      <td>0.489703</td>\n",
       "      <td>0.439657</td>\n",
       "      <td>1.000000</td>\n",
       "      <td>0.427958</td>\n",
       "      <td>0.786436</td>\n",
       "      <td>...</td>\n",
       "      <td>1.000000</td>\n",
       "      <td>1.000000</td>\n",
       "      <td>0.998898</td>\n",
       "      <td>0.986347</td>\n",
       "      <td>1.000000</td>\n",
       "      <td>1.000000</td>\n",
       "      <td>0.833180</td>\n",
       "      <td>1.000000</td>\n",
       "      <td>0.973113</td>\n",
       "      <td>24.000000</td>\n",
       "    </tr>\n",
       "  </tbody>\n",
       "</table>\n",
       "<p>8 rows × 562 columns</p>\n",
       "</div>"
      ],
      "text/plain": [
       "       tBodyAcc-mean()-X  tBodyAcc-mean()-Y  tBodyAcc-mean()-Z  \\\n",
       "count        2947.000000        2947.000000        2947.000000   \n",
       "mean            0.273996          -0.017863          -0.108386   \n",
       "std             0.060570           0.025745           0.042747   \n",
       "min            -0.592004          -0.362884          -0.576184   \n",
       "25%             0.262075          -0.024961          -0.121162   \n",
       "50%             0.277113          -0.016967          -0.108458   \n",
       "75%             0.288097          -0.010143          -0.097123   \n",
       "max             0.671887           0.246106           0.494114   \n",
       "\n",
       "       tBodyAcc-std()-X  tBodyAcc-std()-Y  tBodyAcc-std()-Z  tBodyAcc-mad()-X  \\\n",
       "count       2947.000000       2947.000000       2947.000000       2947.000000   \n",
       "mean          -0.613635         -0.508330         -0.633797         -0.641278   \n",
       "std            0.412597          0.494269          0.362699          0.385199   \n",
       "min           -0.999606         -1.000000         -0.998955         -0.999417   \n",
       "25%           -0.990914         -0.973664         -0.976122         -0.992333   \n",
       "50%           -0.931214         -0.790972         -0.827534         -0.937664   \n",
       "75%           -0.267395         -0.105919         -0.311432         -0.321719   \n",
       "max            0.465299          1.000000          0.489703          0.439657   \n",
       "\n",
       "       tBodyAcc-mad()-Y  tBodyAcc-mad()-Z  tBodyAcc-max()-X     ...       \\\n",
       "count       2947.000000       2947.000000       2947.000000     ...        \n",
       "mean          -0.522676         -0.637038         -0.462063     ...        \n",
       "std            0.479899          0.357753          0.523916     ...        \n",
       "min           -0.999914         -0.998899         -0.952357     ...        \n",
       "25%           -0.974131         -0.975352         -0.934447     ...        \n",
       "50%           -0.799907         -0.817005         -0.852659     ...        \n",
       "75%           -0.133488         -0.322771         -0.009965     ...        \n",
       "max            1.000000          0.427958          0.786436     ...        \n",
       "\n",
       "       fBodyBodyGyroJerkMag-skewness()  fBodyBodyGyroJerkMag-kurtosis()  \\\n",
       "count                      2947.000000                      2947.000000   \n",
       "mean                         -0.277593                        -0.598756   \n",
       "std                           0.317245                         0.311042   \n",
       "min                          -1.000000                        -1.000000   \n",
       "25%                          -0.517494                        -0.829593   \n",
       "50%                          -0.311023                        -0.683672   \n",
       "75%                          -0.083559                        -0.458332   \n",
       "max                           1.000000                         1.000000   \n",
       "\n",
       "       angle(tBodyAccMean,gravity)  angle(tBodyAccJerkMean),gravityMean)  \\\n",
       "count                  2947.000000                           2947.000000   \n",
       "mean                      0.005264                              0.003799   \n",
       "std                       0.336147                              0.445077   \n",
       "min                      -1.000000                             -0.993402   \n",
       "25%                      -0.130541                             -0.282600   \n",
       "50%                       0.005188                              0.006767   \n",
       "75%                       0.146200                              0.288113   \n",
       "max                       0.998898                              0.986347   \n",
       "\n",
       "       angle(tBodyGyroMean,gravityMean)  angle(tBodyGyroJerkMean,gravityMean)  \\\n",
       "count                       2947.000000                           2947.000000   \n",
       "mean                           0.040029                             -0.017298   \n",
       "std                            0.634989                              0.501311   \n",
       "min                           -0.998898                             -0.991096   \n",
       "25%                           -0.518924                             -0.428375   \n",
       "50%                            0.047113                             -0.026726   \n",
       "75%                            0.622151                              0.394387   \n",
       "max                            1.000000                              1.000000   \n",
       "\n",
       "       angle(X,gravityMean)  angle(Y,gravityMean)  angle(Z,gravityMean)  \\\n",
       "count           2947.000000           2947.000000           2947.000000   \n",
       "mean              -0.513923              0.074886             -0.048720   \n",
       "std                0.509205              0.324300              0.241467   \n",
       "min               -0.984195             -0.913704             -0.949228   \n",
       "25%               -0.829722              0.022140             -0.098485   \n",
       "50%               -0.729648              0.181563             -0.010671   \n",
       "75%               -0.545939              0.260252              0.092373   \n",
       "max                0.833180              1.000000              0.973113   \n",
       "\n",
       "           subject  \n",
       "count  2947.000000  \n",
       "mean     12.986427  \n",
       "std       6.950984  \n",
       "min       2.000000  \n",
       "25%       9.000000  \n",
       "50%      12.000000  \n",
       "75%      18.000000  \n",
       "max      24.000000  \n",
       "\n",
       "[8 rows x 562 columns]"
      ]
     },
     "execution_count": 4,
     "metadata": {},
     "output_type": "execute_result"
    }
   ],
   "source": [
    "samsung_test_data.describe()"
   ]
  },
  {
   "cell_type": "code",
   "execution_count": 5,
   "metadata": {},
   "outputs": [
    {
     "name": "stdout",
     "output_type": "stream",
     "text": [
      "Shape of the test data (2947, 563)\n",
      "Shape of the Train data (7352, 563)\n"
     ]
    }
   ],
   "source": [
    "print('Shape of the test data {}'.format(samsung_test_data.shape))\n",
    "print('Shape of the Train data {}'.format(samsung_train_data.shape))\n"
   ]
  },
  {
   "cell_type": "code",
   "execution_count": 6,
   "metadata": {},
   "outputs": [
    {
     "data": {
      "text/html": [
       "<div>\n",
       "<style scoped>\n",
       "    .dataframe tbody tr th:only-of-type {\n",
       "        vertical-align: middle;\n",
       "    }\n",
       "\n",
       "    .dataframe tbody tr th {\n",
       "        vertical-align: top;\n",
       "    }\n",
       "\n",
       "    .dataframe thead th {\n",
       "        text-align: right;\n",
       "    }\n",
       "</style>\n",
       "<table border=\"1\" class=\"dataframe\">\n",
       "  <thead>\n",
       "    <tr style=\"text-align: right;\">\n",
       "      <th></th>\n",
       "      <th>tBodyAcc-mean()-X</th>\n",
       "      <th>tBodyAcc-mean()-Y</th>\n",
       "      <th>tBodyAcc-mean()-Z</th>\n",
       "      <th>tBodyAcc-std()-X</th>\n",
       "      <th>tBodyAcc-std()-Y</th>\n",
       "      <th>tBodyAcc-std()-Z</th>\n",
       "      <th>tBodyAcc-mad()-X</th>\n",
       "      <th>tBodyAcc-mad()-Y</th>\n",
       "      <th>tBodyAcc-mad()-Z</th>\n",
       "      <th>tBodyAcc-max()-X</th>\n",
       "      <th>...</th>\n",
       "      <th>fBodyBodyGyroJerkMag-kurtosis()</th>\n",
       "      <th>angle(tBodyAccMean,gravity)</th>\n",
       "      <th>angle(tBodyAccJerkMean),gravityMean)</th>\n",
       "      <th>angle(tBodyGyroMean,gravityMean)</th>\n",
       "      <th>angle(tBodyGyroJerkMean,gravityMean)</th>\n",
       "      <th>angle(X,gravityMean)</th>\n",
       "      <th>angle(Y,gravityMean)</th>\n",
       "      <th>angle(Z,gravityMean)</th>\n",
       "      <th>subject</th>\n",
       "      <th>Activity</th>\n",
       "    </tr>\n",
       "  </thead>\n",
       "  <tbody>\n",
       "    <tr>\n",
       "      <th>0</th>\n",
       "      <td>0.288585</td>\n",
       "      <td>-0.020294</td>\n",
       "      <td>-0.132905</td>\n",
       "      <td>-0.995279</td>\n",
       "      <td>-0.983111</td>\n",
       "      <td>-0.913526</td>\n",
       "      <td>-0.995112</td>\n",
       "      <td>-0.983185</td>\n",
       "      <td>-0.923527</td>\n",
       "      <td>-0.934724</td>\n",
       "      <td>...</td>\n",
       "      <td>-0.710304</td>\n",
       "      <td>-0.112754</td>\n",
       "      <td>0.030400</td>\n",
       "      <td>-0.464761</td>\n",
       "      <td>-0.018446</td>\n",
       "      <td>-0.841247</td>\n",
       "      <td>0.179941</td>\n",
       "      <td>-0.058627</td>\n",
       "      <td>1</td>\n",
       "      <td>STANDING</td>\n",
       "    </tr>\n",
       "    <tr>\n",
       "      <th>1</th>\n",
       "      <td>0.278419</td>\n",
       "      <td>-0.016411</td>\n",
       "      <td>-0.123520</td>\n",
       "      <td>-0.998245</td>\n",
       "      <td>-0.975300</td>\n",
       "      <td>-0.960322</td>\n",
       "      <td>-0.998807</td>\n",
       "      <td>-0.974914</td>\n",
       "      <td>-0.957686</td>\n",
       "      <td>-0.943068</td>\n",
       "      <td>...</td>\n",
       "      <td>-0.861499</td>\n",
       "      <td>0.053477</td>\n",
       "      <td>-0.007435</td>\n",
       "      <td>-0.732626</td>\n",
       "      <td>0.703511</td>\n",
       "      <td>-0.844788</td>\n",
       "      <td>0.180289</td>\n",
       "      <td>-0.054317</td>\n",
       "      <td>1</td>\n",
       "      <td>STANDING</td>\n",
       "    </tr>\n",
       "    <tr>\n",
       "      <th>2</th>\n",
       "      <td>0.279653</td>\n",
       "      <td>-0.019467</td>\n",
       "      <td>-0.113462</td>\n",
       "      <td>-0.995380</td>\n",
       "      <td>-0.967187</td>\n",
       "      <td>-0.978944</td>\n",
       "      <td>-0.996520</td>\n",
       "      <td>-0.963668</td>\n",
       "      <td>-0.977469</td>\n",
       "      <td>-0.938692</td>\n",
       "      <td>...</td>\n",
       "      <td>-0.760104</td>\n",
       "      <td>-0.118559</td>\n",
       "      <td>0.177899</td>\n",
       "      <td>0.100699</td>\n",
       "      <td>0.808529</td>\n",
       "      <td>-0.848933</td>\n",
       "      <td>0.180637</td>\n",
       "      <td>-0.049118</td>\n",
       "      <td>1</td>\n",
       "      <td>STANDING</td>\n",
       "    </tr>\n",
       "    <tr>\n",
       "      <th>3</th>\n",
       "      <td>0.279174</td>\n",
       "      <td>-0.026201</td>\n",
       "      <td>-0.123283</td>\n",
       "      <td>-0.996091</td>\n",
       "      <td>-0.983403</td>\n",
       "      <td>-0.990675</td>\n",
       "      <td>-0.997099</td>\n",
       "      <td>-0.982750</td>\n",
       "      <td>-0.989302</td>\n",
       "      <td>-0.938692</td>\n",
       "      <td>...</td>\n",
       "      <td>-0.482845</td>\n",
       "      <td>-0.036788</td>\n",
       "      <td>-0.012892</td>\n",
       "      <td>0.640011</td>\n",
       "      <td>-0.485366</td>\n",
       "      <td>-0.848649</td>\n",
       "      <td>0.181935</td>\n",
       "      <td>-0.047663</td>\n",
       "      <td>1</td>\n",
       "      <td>STANDING</td>\n",
       "    </tr>\n",
       "    <tr>\n",
       "      <th>4</th>\n",
       "      <td>0.276629</td>\n",
       "      <td>-0.016570</td>\n",
       "      <td>-0.115362</td>\n",
       "      <td>-0.998139</td>\n",
       "      <td>-0.980817</td>\n",
       "      <td>-0.990482</td>\n",
       "      <td>-0.998321</td>\n",
       "      <td>-0.979672</td>\n",
       "      <td>-0.990441</td>\n",
       "      <td>-0.942469</td>\n",
       "      <td>...</td>\n",
       "      <td>-0.699205</td>\n",
       "      <td>0.123320</td>\n",
       "      <td>0.122542</td>\n",
       "      <td>0.693578</td>\n",
       "      <td>-0.615971</td>\n",
       "      <td>-0.847865</td>\n",
       "      <td>0.185151</td>\n",
       "      <td>-0.043892</td>\n",
       "      <td>1</td>\n",
       "      <td>STANDING</td>\n",
       "    </tr>\n",
       "  </tbody>\n",
       "</table>\n",
       "<p>5 rows × 563 columns</p>\n",
       "</div>"
      ],
      "text/plain": [
       "   tBodyAcc-mean()-X  tBodyAcc-mean()-Y  tBodyAcc-mean()-Z  tBodyAcc-std()-X  \\\n",
       "0           0.288585          -0.020294          -0.132905         -0.995279   \n",
       "1           0.278419          -0.016411          -0.123520         -0.998245   \n",
       "2           0.279653          -0.019467          -0.113462         -0.995380   \n",
       "3           0.279174          -0.026201          -0.123283         -0.996091   \n",
       "4           0.276629          -0.016570          -0.115362         -0.998139   \n",
       "\n",
       "   tBodyAcc-std()-Y  tBodyAcc-std()-Z  tBodyAcc-mad()-X  tBodyAcc-mad()-Y  \\\n",
       "0         -0.983111         -0.913526         -0.995112         -0.983185   \n",
       "1         -0.975300         -0.960322         -0.998807         -0.974914   \n",
       "2         -0.967187         -0.978944         -0.996520         -0.963668   \n",
       "3         -0.983403         -0.990675         -0.997099         -0.982750   \n",
       "4         -0.980817         -0.990482         -0.998321         -0.979672   \n",
       "\n",
       "   tBodyAcc-mad()-Z  tBodyAcc-max()-X    ...     \\\n",
       "0         -0.923527         -0.934724    ...      \n",
       "1         -0.957686         -0.943068    ...      \n",
       "2         -0.977469         -0.938692    ...      \n",
       "3         -0.989302         -0.938692    ...      \n",
       "4         -0.990441         -0.942469    ...      \n",
       "\n",
       "   fBodyBodyGyroJerkMag-kurtosis()  angle(tBodyAccMean,gravity)  \\\n",
       "0                        -0.710304                    -0.112754   \n",
       "1                        -0.861499                     0.053477   \n",
       "2                        -0.760104                    -0.118559   \n",
       "3                        -0.482845                    -0.036788   \n",
       "4                        -0.699205                     0.123320   \n",
       "\n",
       "   angle(tBodyAccJerkMean),gravityMean)  angle(tBodyGyroMean,gravityMean)  \\\n",
       "0                              0.030400                         -0.464761   \n",
       "1                             -0.007435                         -0.732626   \n",
       "2                              0.177899                          0.100699   \n",
       "3                             -0.012892                          0.640011   \n",
       "4                              0.122542                          0.693578   \n",
       "\n",
       "   angle(tBodyGyroJerkMean,gravityMean)  angle(X,gravityMean)  \\\n",
       "0                             -0.018446             -0.841247   \n",
       "1                              0.703511             -0.844788   \n",
       "2                              0.808529             -0.848933   \n",
       "3                             -0.485366             -0.848649   \n",
       "4                             -0.615971             -0.847865   \n",
       "\n",
       "   angle(Y,gravityMean)  angle(Z,gravityMean)  subject  Activity  \n",
       "0              0.179941             -0.058627        1  STANDING  \n",
       "1              0.180289             -0.054317        1  STANDING  \n",
       "2              0.180637             -0.049118        1  STANDING  \n",
       "3              0.181935             -0.047663        1  STANDING  \n",
       "4              0.185151             -0.043892        1  STANDING  \n",
       "\n",
       "[5 rows x 563 columns]"
      ]
     },
     "execution_count": 6,
     "metadata": {},
     "output_type": "execute_result"
    }
   ],
   "source": [
    "samsung_train_data.head(5)"
   ]
  },
  {
   "cell_type": "code",
   "execution_count": 7,
   "metadata": {},
   "outputs": [],
   "source": [
    "#for column in samsung_train_data.columns:\n",
    " #   print(column)"
   ]
  },
  {
   "cell_type": "code",
   "execution_count": 8,
   "metadata": {},
   "outputs": [
    {
     "data": {
      "text/plain": [
       "(7352, 563)"
      ]
     },
     "execution_count": 8,
     "metadata": {},
     "output_type": "execute_result"
    }
   ],
   "source": [
    "#Inspecting the number of columns and rows in the dataset\n",
    "samsung_train_data.shape"
   ]
  },
  {
   "cell_type": "code",
   "execution_count": 9,
   "metadata": {},
   "outputs": [
    {
     "data": {
      "text/plain": [
       "563"
      ]
     },
     "execution_count": 9,
     "metadata": {},
     "output_type": "execute_result"
    }
   ],
   "source": [
    "#Checking for duplicate columns\n",
    "len(set(samsung_train_data.columns))"
   ]
  },
  {
   "cell_type": "code",
   "execution_count": 10,
   "metadata": {},
   "outputs": [
    {
     "data": {
      "text/plain": [
       "set()"
      ]
     },
     "execution_count": 10,
     "metadata": {},
     "output_type": "execute_result"
    }
   ],
   "source": [
    "set(samsung_train_data.columns.symmetric_difference(samsung_test_data.columns))"
   ]
  },
  {
   "cell_type": "code",
   "execution_count": 11,
   "metadata": {},
   "outputs": [
    {
     "data": {
      "text/plain": [
       "set()"
      ]
     },
     "execution_count": 11,
     "metadata": {},
     "output_type": "execute_result"
    }
   ],
   "source": [
    "set(samsung_train_data.columns).symmetric_difference(set(samsung_test_data.columns))"
   ]
  },
  {
   "cell_type": "code",
   "execution_count": 12,
   "metadata": {},
   "outputs": [
    {
     "data": {
      "text/plain": [
       "Series([], dtype: int64)"
      ]
     },
     "execution_count": 12,
     "metadata": {},
     "output_type": "execute_result"
    }
   ],
   "source": [
    "# Counting nulls in the dataset \n",
    "null_count = samsung_train_data.isnull().sum()\n",
    "null_count[null_count>0]"
   ]
  },
  {
   "cell_type": "markdown",
   "metadata": {},
   "source": [
    "The inspection returned zero duplicate columns and no null values"
   ]
  },
  {
   "cell_type": "code",
   "execution_count": 13,
   "metadata": {
    "scrolled": false
   },
   "outputs": [],
   "source": [
    "#for column in samsung_train_data.columns:\n",
    "#    print(column)\n",
    "\n"
   ]
  },
  {
   "cell_type": "code",
   "execution_count": 14,
   "metadata": {},
   "outputs": [
    {
     "data": {
      "text/plain": [
       "Index(['tBodyAcc-mean()-X', 'tBodyAcc-mean()-Y', 'tBodyAcc-mean()-Z',\n",
       "       'tBodyAcc-std()-X', 'tBodyAcc-std()-Y', 'tBodyAcc-std()-Z',\n",
       "       'tBodyAcc-mad()-X', 'tBodyAcc-mad()-Y', 'tBodyAcc-mad()-Z',\n",
       "       'tBodyAcc-max()-X',\n",
       "       ...\n",
       "       'fBodyBodyGyroJerkMag-kurtosis()', 'angle(tBodyAccMean,gravity)',\n",
       "       'angle(tBodyAccJerkMean),gravityMean)',\n",
       "       'angle(tBodyGyroMean,gravityMean)',\n",
       "       'angle(tBodyGyroJerkMean,gravityMean)', 'angle(X,gravityMean)',\n",
       "       'angle(Y,gravityMean)', 'angle(Z,gravityMean)', 'subject', 'Activity'],\n",
       "      dtype='object', length=563)"
      ]
     },
     "execution_count": 14,
     "metadata": {},
     "output_type": "execute_result"
    }
   ],
   "source": [
    "samsung_train_data.columns"
   ]
  },
  {
   "cell_type": "code",
   "execution_count": 15,
   "metadata": {},
   "outputs": [
    {
     "name": "stdout",
     "output_type": "stream",
     "text": [
      "<class 'pandas.core.frame.DataFrame'>\n",
      "RangeIndex: 7352 entries, 0 to 7351\n",
      "Columns: 563 entries, tBodyAcc-mean()-X to Activity\n",
      "dtypes: float64(561), int64(1), object(1)\n",
      "memory usage: 31.6+ MB\n"
     ]
    }
   ],
   "source": [
    "samsung_train_data.info()"
   ]
  },
  {
   "cell_type": "code",
   "execution_count": 16,
   "metadata": {},
   "outputs": [
    {
     "data": {
      "text/plain": [
       "dtype('int64')"
      ]
     },
     "execution_count": 16,
     "metadata": {},
     "output_type": "execute_result"
    }
   ],
   "source": [
    "np.dtype(samsung_train_data['subject'])\n"
   ]
  },
  {
   "cell_type": "code",
   "execution_count": 17,
   "metadata": {},
   "outputs": [
    {
     "data": {
      "text/plain": [
       "dtype('O')"
      ]
     },
     "execution_count": 17,
     "metadata": {},
     "output_type": "execute_result"
    }
   ],
   "source": [
    "np.dtype(samsung_train_data['Activity'])\n"
   ]
  },
  {
   "cell_type": "code",
   "execution_count": 18,
   "metadata": {},
   "outputs": [],
   "source": [
    "#samsung_train_data.dtypes"
   ]
  },
  {
   "cell_type": "code",
   "execution_count": 19,
   "metadata": {},
   "outputs": [
    {
     "data": {
      "text/plain": [
       "array(['LAYING', 'SITTING', 'STANDING', 'WALKING', 'WALKING_DOWNSTAIRS',\n",
       "       'WALKING_UPSTAIRS'], dtype=object)"
      ]
     },
     "execution_count": 19,
     "metadata": {},
     "output_type": "execute_result"
    }
   ],
   "source": [
    "np.unique(samsung_train_data['Activity'])"
   ]
  },
  {
   "cell_type": "code",
   "execution_count": 20,
   "metadata": {},
   "outputs": [
    {
     "data": {
      "text/html": [
       "<div>\n",
       "<style scoped>\n",
       "    .dataframe tbody tr th:only-of-type {\n",
       "        vertical-align: middle;\n",
       "    }\n",
       "\n",
       "    .dataframe tbody tr th {\n",
       "        vertical-align: top;\n",
       "    }\n",
       "\n",
       "    .dataframe thead th {\n",
       "        text-align: right;\n",
       "    }\n",
       "</style>\n",
       "<table border=\"1\" class=\"dataframe\">\n",
       "  <thead>\n",
       "    <tr style=\"text-align: right;\">\n",
       "      <th></th>\n",
       "      <th>tBodyAcc-mean()-X</th>\n",
       "      <th>tBodyAcc-mean()-Y</th>\n",
       "      <th>tBodyAcc-mean()-Z</th>\n",
       "      <th>tBodyAcc-std()-X</th>\n",
       "      <th>tBodyAcc-std()-Y</th>\n",
       "      <th>tBodyAcc-std()-Z</th>\n",
       "      <th>tBodyAcc-mad()-X</th>\n",
       "      <th>tBodyAcc-mad()-Y</th>\n",
       "      <th>tBodyAcc-mad()-Z</th>\n",
       "      <th>tBodyAcc-max()-X</th>\n",
       "      <th>...</th>\n",
       "      <th>fBodyBodyGyroJerkMag-meanFreq()</th>\n",
       "      <th>fBodyBodyGyroJerkMag-skewness()</th>\n",
       "      <th>fBodyBodyGyroJerkMag-kurtosis()</th>\n",
       "      <th>angle(tBodyAccMean,gravity)</th>\n",
       "      <th>angle(tBodyAccJerkMean),gravityMean)</th>\n",
       "      <th>angle(tBodyGyroMean,gravityMean)</th>\n",
       "      <th>angle(tBodyGyroJerkMean,gravityMean)</th>\n",
       "      <th>angle(X,gravityMean)</th>\n",
       "      <th>angle(Y,gravityMean)</th>\n",
       "      <th>angle(Z,gravityMean)</th>\n",
       "    </tr>\n",
       "  </thead>\n",
       "  <tbody>\n",
       "    <tr>\n",
       "      <th>0</th>\n",
       "      <td>0.288585</td>\n",
       "      <td>-0.020294</td>\n",
       "      <td>-0.132905</td>\n",
       "      <td>-0.995279</td>\n",
       "      <td>-0.983111</td>\n",
       "      <td>-0.913526</td>\n",
       "      <td>-0.995112</td>\n",
       "      <td>-0.983185</td>\n",
       "      <td>-0.923527</td>\n",
       "      <td>-0.934724</td>\n",
       "      <td>...</td>\n",
       "      <td>-0.074323</td>\n",
       "      <td>-0.298676</td>\n",
       "      <td>-0.710304</td>\n",
       "      <td>-0.112754</td>\n",
       "      <td>0.030400</td>\n",
       "      <td>-0.464761</td>\n",
       "      <td>-0.018446</td>\n",
       "      <td>-0.841247</td>\n",
       "      <td>0.179941</td>\n",
       "      <td>-0.058627</td>\n",
       "    </tr>\n",
       "    <tr>\n",
       "      <th>1</th>\n",
       "      <td>0.278419</td>\n",
       "      <td>-0.016411</td>\n",
       "      <td>-0.123520</td>\n",
       "      <td>-0.998245</td>\n",
       "      <td>-0.975300</td>\n",
       "      <td>-0.960322</td>\n",
       "      <td>-0.998807</td>\n",
       "      <td>-0.974914</td>\n",
       "      <td>-0.957686</td>\n",
       "      <td>-0.943068</td>\n",
       "      <td>...</td>\n",
       "      <td>0.158075</td>\n",
       "      <td>-0.595051</td>\n",
       "      <td>-0.861499</td>\n",
       "      <td>0.053477</td>\n",
       "      <td>-0.007435</td>\n",
       "      <td>-0.732626</td>\n",
       "      <td>0.703511</td>\n",
       "      <td>-0.844788</td>\n",
       "      <td>0.180289</td>\n",
       "      <td>-0.054317</td>\n",
       "    </tr>\n",
       "    <tr>\n",
       "      <th>2</th>\n",
       "      <td>0.279653</td>\n",
       "      <td>-0.019467</td>\n",
       "      <td>-0.113462</td>\n",
       "      <td>-0.995380</td>\n",
       "      <td>-0.967187</td>\n",
       "      <td>-0.978944</td>\n",
       "      <td>-0.996520</td>\n",
       "      <td>-0.963668</td>\n",
       "      <td>-0.977469</td>\n",
       "      <td>-0.938692</td>\n",
       "      <td>...</td>\n",
       "      <td>0.414503</td>\n",
       "      <td>-0.390748</td>\n",
       "      <td>-0.760104</td>\n",
       "      <td>-0.118559</td>\n",
       "      <td>0.177899</td>\n",
       "      <td>0.100699</td>\n",
       "      <td>0.808529</td>\n",
       "      <td>-0.848933</td>\n",
       "      <td>0.180637</td>\n",
       "      <td>-0.049118</td>\n",
       "    </tr>\n",
       "    <tr>\n",
       "      <th>3</th>\n",
       "      <td>0.279174</td>\n",
       "      <td>-0.026201</td>\n",
       "      <td>-0.123283</td>\n",
       "      <td>-0.996091</td>\n",
       "      <td>-0.983403</td>\n",
       "      <td>-0.990675</td>\n",
       "      <td>-0.997099</td>\n",
       "      <td>-0.982750</td>\n",
       "      <td>-0.989302</td>\n",
       "      <td>-0.938692</td>\n",
       "      <td>...</td>\n",
       "      <td>0.404573</td>\n",
       "      <td>-0.117290</td>\n",
       "      <td>-0.482845</td>\n",
       "      <td>-0.036788</td>\n",
       "      <td>-0.012892</td>\n",
       "      <td>0.640011</td>\n",
       "      <td>-0.485366</td>\n",
       "      <td>-0.848649</td>\n",
       "      <td>0.181935</td>\n",
       "      <td>-0.047663</td>\n",
       "    </tr>\n",
       "    <tr>\n",
       "      <th>4</th>\n",
       "      <td>0.276629</td>\n",
       "      <td>-0.016570</td>\n",
       "      <td>-0.115362</td>\n",
       "      <td>-0.998139</td>\n",
       "      <td>-0.980817</td>\n",
       "      <td>-0.990482</td>\n",
       "      <td>-0.998321</td>\n",
       "      <td>-0.979672</td>\n",
       "      <td>-0.990441</td>\n",
       "      <td>-0.942469</td>\n",
       "      <td>...</td>\n",
       "      <td>0.087753</td>\n",
       "      <td>-0.351471</td>\n",
       "      <td>-0.699205</td>\n",
       "      <td>0.123320</td>\n",
       "      <td>0.122542</td>\n",
       "      <td>0.693578</td>\n",
       "      <td>-0.615971</td>\n",
       "      <td>-0.847865</td>\n",
       "      <td>0.185151</td>\n",
       "      <td>-0.043892</td>\n",
       "    </tr>\n",
       "  </tbody>\n",
       "</table>\n",
       "<p>5 rows × 561 columns</p>\n",
       "</div>"
      ],
      "text/plain": [
       "   tBodyAcc-mean()-X  tBodyAcc-mean()-Y  tBodyAcc-mean()-Z  tBodyAcc-std()-X  \\\n",
       "0           0.288585          -0.020294          -0.132905         -0.995279   \n",
       "1           0.278419          -0.016411          -0.123520         -0.998245   \n",
       "2           0.279653          -0.019467          -0.113462         -0.995380   \n",
       "3           0.279174          -0.026201          -0.123283         -0.996091   \n",
       "4           0.276629          -0.016570          -0.115362         -0.998139   \n",
       "\n",
       "   tBodyAcc-std()-Y  tBodyAcc-std()-Z  tBodyAcc-mad()-X  tBodyAcc-mad()-Y  \\\n",
       "0         -0.983111         -0.913526         -0.995112         -0.983185   \n",
       "1         -0.975300         -0.960322         -0.998807         -0.974914   \n",
       "2         -0.967187         -0.978944         -0.996520         -0.963668   \n",
       "3         -0.983403         -0.990675         -0.997099         -0.982750   \n",
       "4         -0.980817         -0.990482         -0.998321         -0.979672   \n",
       "\n",
       "   tBodyAcc-mad()-Z  tBodyAcc-max()-X          ...           \\\n",
       "0         -0.923527         -0.934724          ...            \n",
       "1         -0.957686         -0.943068          ...            \n",
       "2         -0.977469         -0.938692          ...            \n",
       "3         -0.989302         -0.938692          ...            \n",
       "4         -0.990441         -0.942469          ...            \n",
       "\n",
       "   fBodyBodyGyroJerkMag-meanFreq()  fBodyBodyGyroJerkMag-skewness()  \\\n",
       "0                        -0.074323                        -0.298676   \n",
       "1                         0.158075                        -0.595051   \n",
       "2                         0.414503                        -0.390748   \n",
       "3                         0.404573                        -0.117290   \n",
       "4                         0.087753                        -0.351471   \n",
       "\n",
       "   fBodyBodyGyroJerkMag-kurtosis()  angle(tBodyAccMean,gravity)  \\\n",
       "0                        -0.710304                    -0.112754   \n",
       "1                        -0.861499                     0.053477   \n",
       "2                        -0.760104                    -0.118559   \n",
       "3                        -0.482845                    -0.036788   \n",
       "4                        -0.699205                     0.123320   \n",
       "\n",
       "   angle(tBodyAccJerkMean),gravityMean)  angle(tBodyGyroMean,gravityMean)  \\\n",
       "0                              0.030400                         -0.464761   \n",
       "1                             -0.007435                         -0.732626   \n",
       "2                              0.177899                          0.100699   \n",
       "3                             -0.012892                          0.640011   \n",
       "4                              0.122542                          0.693578   \n",
       "\n",
       "   angle(tBodyGyroJerkMean,gravityMean)  angle(X,gravityMean)  \\\n",
       "0                             -0.018446             -0.841247   \n",
       "1                              0.703511             -0.844788   \n",
       "2                              0.808529             -0.848933   \n",
       "3                             -0.485366             -0.848649   \n",
       "4                             -0.615971             -0.847865   \n",
       "\n",
       "   angle(Y,gravityMean)  angle(Z,gravityMean)  \n",
       "0              0.179941             -0.058627  \n",
       "1              0.180289             -0.054317  \n",
       "2              0.180637             -0.049118  \n",
       "3              0.181935             -0.047663  \n",
       "4              0.185151             -0.043892  \n",
       "\n",
       "[5 rows x 561 columns]"
      ]
     },
     "execution_count": 20,
     "metadata": {},
     "output_type": "execute_result"
    }
   ],
   "source": [
    "#Training variables with subject dropped and the outcome variable removed\n",
    "#X Values\n",
    "samsung_train_data.drop(['subject','Activity'], 1).head(5)"
   ]
  },
  {
   "cell_type": "code",
   "execution_count": 21,
   "metadata": {},
   "outputs": [],
   "source": [
    "#Activity will be the y value \n",
    "#The X Values will be used to predict what activity the user is doing. \n",
    "samsung_train_data['Activity'].head()\n",
    "y_train = samsung_train_data['Activity']"
   ]
  },
  {
   "cell_type": "code",
   "execution_count": 22,
   "metadata": {},
   "outputs": [],
   "source": [
    "#Activity will be the y value \n",
    "#The X Values will be used to predict what activity the user is doing. \n",
    "samsung_train_data['Activity'].head()\n",
    "X_train = samsung_train_data.drop(['subject','Activity'], 1)\n"
   ]
  },
  {
   "cell_type": "code",
   "execution_count": 23,
   "metadata": {},
   "outputs": [
    {
     "data": {
      "text/html": [
       "<div>\n",
       "<style scoped>\n",
       "    .dataframe tbody tr th:only-of-type {\n",
       "        vertical-align: middle;\n",
       "    }\n",
       "\n",
       "    .dataframe tbody tr th {\n",
       "        vertical-align: top;\n",
       "    }\n",
       "\n",
       "    .dataframe thead th {\n",
       "        text-align: right;\n",
       "    }\n",
       "</style>\n",
       "<table border=\"1\" class=\"dataframe\">\n",
       "  <thead>\n",
       "    <tr style=\"text-align: right;\">\n",
       "      <th></th>\n",
       "      <th>tBodyAcc-mean()-X</th>\n",
       "      <th>tBodyAcc-mean()-Y</th>\n",
       "      <th>tBodyAcc-mean()-Z</th>\n",
       "      <th>tBodyAcc-std()-X</th>\n",
       "      <th>tBodyAcc-std()-Y</th>\n",
       "      <th>tBodyAcc-std()-Z</th>\n",
       "      <th>tBodyAcc-mad()-X</th>\n",
       "      <th>tBodyAcc-mad()-Y</th>\n",
       "      <th>tBodyAcc-mad()-Z</th>\n",
       "      <th>tBodyAcc-max()-X</th>\n",
       "      <th>...</th>\n",
       "      <th>fBodyBodyGyroJerkMag-meanFreq()</th>\n",
       "      <th>fBodyBodyGyroJerkMag-skewness()</th>\n",
       "      <th>fBodyBodyGyroJerkMag-kurtosis()</th>\n",
       "      <th>angle(tBodyAccMean,gravity)</th>\n",
       "      <th>angle(tBodyAccJerkMean),gravityMean)</th>\n",
       "      <th>angle(tBodyGyroMean,gravityMean)</th>\n",
       "      <th>angle(tBodyGyroJerkMean,gravityMean)</th>\n",
       "      <th>angle(X,gravityMean)</th>\n",
       "      <th>angle(Y,gravityMean)</th>\n",
       "      <th>angle(Z,gravityMean)</th>\n",
       "    </tr>\n",
       "  </thead>\n",
       "  <tbody>\n",
       "    <tr>\n",
       "      <th>0</th>\n",
       "      <td>0.257178</td>\n",
       "      <td>-0.023285</td>\n",
       "      <td>-0.014654</td>\n",
       "      <td>-0.938404</td>\n",
       "      <td>-0.920091</td>\n",
       "      <td>-0.667683</td>\n",
       "      <td>-0.952501</td>\n",
       "      <td>-0.925249</td>\n",
       "      <td>-0.674302</td>\n",
       "      <td>-0.894088</td>\n",
       "      <td>...</td>\n",
       "      <td>0.071645</td>\n",
       "      <td>-0.330370</td>\n",
       "      <td>-0.705974</td>\n",
       "      <td>0.006462</td>\n",
       "      <td>0.162920</td>\n",
       "      <td>-0.825886</td>\n",
       "      <td>0.271151</td>\n",
       "      <td>-0.720009</td>\n",
       "      <td>0.276801</td>\n",
       "      <td>-0.057978</td>\n",
       "    </tr>\n",
       "    <tr>\n",
       "      <th>1</th>\n",
       "      <td>0.286027</td>\n",
       "      <td>-0.013163</td>\n",
       "      <td>-0.119083</td>\n",
       "      <td>-0.975415</td>\n",
       "      <td>-0.967458</td>\n",
       "      <td>-0.944958</td>\n",
       "      <td>-0.986799</td>\n",
       "      <td>-0.968401</td>\n",
       "      <td>-0.945823</td>\n",
       "      <td>-0.894088</td>\n",
       "      <td>...</td>\n",
       "      <td>-0.401189</td>\n",
       "      <td>-0.121845</td>\n",
       "      <td>-0.594944</td>\n",
       "      <td>-0.083495</td>\n",
       "      <td>0.017500</td>\n",
       "      <td>-0.434375</td>\n",
       "      <td>0.920593</td>\n",
       "      <td>-0.698091</td>\n",
       "      <td>0.281343</td>\n",
       "      <td>-0.083898</td>\n",
       "    </tr>\n",
       "    <tr>\n",
       "      <th>2</th>\n",
       "      <td>0.275485</td>\n",
       "      <td>-0.026050</td>\n",
       "      <td>-0.118152</td>\n",
       "      <td>-0.993819</td>\n",
       "      <td>-0.969926</td>\n",
       "      <td>-0.962748</td>\n",
       "      <td>-0.994403</td>\n",
       "      <td>-0.970735</td>\n",
       "      <td>-0.963483</td>\n",
       "      <td>-0.939260</td>\n",
       "      <td>...</td>\n",
       "      <td>0.062891</td>\n",
       "      <td>-0.190422</td>\n",
       "      <td>-0.640736</td>\n",
       "      <td>-0.034956</td>\n",
       "      <td>0.202302</td>\n",
       "      <td>0.064103</td>\n",
       "      <td>0.145068</td>\n",
       "      <td>-0.702771</td>\n",
       "      <td>0.280083</td>\n",
       "      <td>-0.079346</td>\n",
       "    </tr>\n",
       "    <tr>\n",
       "      <th>3</th>\n",
       "      <td>0.270298</td>\n",
       "      <td>-0.032614</td>\n",
       "      <td>-0.117520</td>\n",
       "      <td>-0.994743</td>\n",
       "      <td>-0.973268</td>\n",
       "      <td>-0.967091</td>\n",
       "      <td>-0.995274</td>\n",
       "      <td>-0.974471</td>\n",
       "      <td>-0.968897</td>\n",
       "      <td>-0.938610</td>\n",
       "      <td>...</td>\n",
       "      <td>0.116695</td>\n",
       "      <td>-0.344418</td>\n",
       "      <td>-0.736124</td>\n",
       "      <td>-0.017067</td>\n",
       "      <td>0.154438</td>\n",
       "      <td>0.340134</td>\n",
       "      <td>0.296407</td>\n",
       "      <td>-0.698954</td>\n",
       "      <td>0.284114</td>\n",
       "      <td>-0.077108</td>\n",
       "    </tr>\n",
       "    <tr>\n",
       "      <th>4</th>\n",
       "      <td>0.274833</td>\n",
       "      <td>-0.027848</td>\n",
       "      <td>-0.129527</td>\n",
       "      <td>-0.993852</td>\n",
       "      <td>-0.967445</td>\n",
       "      <td>-0.978295</td>\n",
       "      <td>-0.994111</td>\n",
       "      <td>-0.965953</td>\n",
       "      <td>-0.977346</td>\n",
       "      <td>-0.938610</td>\n",
       "      <td>...</td>\n",
       "      <td>-0.121711</td>\n",
       "      <td>-0.534685</td>\n",
       "      <td>-0.846595</td>\n",
       "      <td>-0.002223</td>\n",
       "      <td>-0.040046</td>\n",
       "      <td>0.736715</td>\n",
       "      <td>-0.118545</td>\n",
       "      <td>-0.692245</td>\n",
       "      <td>0.290722</td>\n",
       "      <td>-0.073857</td>\n",
       "    </tr>\n",
       "  </tbody>\n",
       "</table>\n",
       "<p>5 rows × 561 columns</p>\n",
       "</div>"
      ],
      "text/plain": [
       "   tBodyAcc-mean()-X  tBodyAcc-mean()-Y  tBodyAcc-mean()-Z  tBodyAcc-std()-X  \\\n",
       "0           0.257178          -0.023285          -0.014654         -0.938404   \n",
       "1           0.286027          -0.013163          -0.119083         -0.975415   \n",
       "2           0.275485          -0.026050          -0.118152         -0.993819   \n",
       "3           0.270298          -0.032614          -0.117520         -0.994743   \n",
       "4           0.274833          -0.027848          -0.129527         -0.993852   \n",
       "\n",
       "   tBodyAcc-std()-Y  tBodyAcc-std()-Z  tBodyAcc-mad()-X  tBodyAcc-mad()-Y  \\\n",
       "0         -0.920091         -0.667683         -0.952501         -0.925249   \n",
       "1         -0.967458         -0.944958         -0.986799         -0.968401   \n",
       "2         -0.969926         -0.962748         -0.994403         -0.970735   \n",
       "3         -0.973268         -0.967091         -0.995274         -0.974471   \n",
       "4         -0.967445         -0.978295         -0.994111         -0.965953   \n",
       "\n",
       "   tBodyAcc-mad()-Z  tBodyAcc-max()-X          ...           \\\n",
       "0         -0.674302         -0.894088          ...            \n",
       "1         -0.945823         -0.894088          ...            \n",
       "2         -0.963483         -0.939260          ...            \n",
       "3         -0.968897         -0.938610          ...            \n",
       "4         -0.977346         -0.938610          ...            \n",
       "\n",
       "   fBodyBodyGyroJerkMag-meanFreq()  fBodyBodyGyroJerkMag-skewness()  \\\n",
       "0                         0.071645                        -0.330370   \n",
       "1                        -0.401189                        -0.121845   \n",
       "2                         0.062891                        -0.190422   \n",
       "3                         0.116695                        -0.344418   \n",
       "4                        -0.121711                        -0.534685   \n",
       "\n",
       "   fBodyBodyGyroJerkMag-kurtosis()  angle(tBodyAccMean,gravity)  \\\n",
       "0                        -0.705974                     0.006462   \n",
       "1                        -0.594944                    -0.083495   \n",
       "2                        -0.640736                    -0.034956   \n",
       "3                        -0.736124                    -0.017067   \n",
       "4                        -0.846595                    -0.002223   \n",
       "\n",
       "   angle(tBodyAccJerkMean),gravityMean)  angle(tBodyGyroMean,gravityMean)  \\\n",
       "0                              0.162920                         -0.825886   \n",
       "1                              0.017500                         -0.434375   \n",
       "2                              0.202302                          0.064103   \n",
       "3                              0.154438                          0.340134   \n",
       "4                             -0.040046                          0.736715   \n",
       "\n",
       "   angle(tBodyGyroJerkMean,gravityMean)  angle(X,gravityMean)  \\\n",
       "0                              0.271151             -0.720009   \n",
       "1                              0.920593             -0.698091   \n",
       "2                              0.145068             -0.702771   \n",
       "3                              0.296407             -0.698954   \n",
       "4                             -0.118545             -0.692245   \n",
       "\n",
       "   angle(Y,gravityMean)  angle(Z,gravityMean)  \n",
       "0              0.276801             -0.057978  \n",
       "1              0.281343             -0.083898  \n",
       "2              0.280083             -0.079346  \n",
       "3              0.284114             -0.077108  \n",
       "4              0.290722             -0.073857  \n",
       "\n",
       "[5 rows x 561 columns]"
      ]
     },
     "execution_count": 23,
     "metadata": {},
     "output_type": "execute_result"
    }
   ],
   "source": [
    "#Test variables with subject dropped and the outcome variable removed\n",
    "\n",
    "#X Values\n",
    "\n",
    "X_test = samsung_test_data.drop(['subject','Activity'], 1)\n",
    "\n",
    "samsung_test_data.drop(['subject','Activity'], 1).head(5)"
   ]
  },
  {
   "cell_type": "code",
   "execution_count": 24,
   "metadata": {},
   "outputs": [],
   "source": [
    "#the y values will be tested against the training set\n",
    "\n",
    "#Activity will be the y value \n",
    "\n",
    "#The X Values will be used to predict what activity the user is doing. \n",
    "y_test = samsung_test_data['Activity']"
   ]
  },
  {
   "cell_type": "markdown",
   "metadata": {},
   "source": [
    "### Check the Data for Balance"
   ]
  },
  {
   "cell_type": "code",
   "execution_count": 25,
   "metadata": {},
   "outputs": [
    {
     "data": {
      "text/plain": [
       "LAYING                0.191376\n",
       "STANDING              0.186888\n",
       "SITTING               0.174918\n",
       "WALKING               0.166757\n",
       "WALKING_UPSTAIRS      0.145947\n",
       "WALKING_DOWNSTAIRS    0.134113\n",
       "Name: Activity, dtype: float64"
      ]
     },
     "execution_count": 25,
     "metadata": {},
     "output_type": "execute_result"
    }
   ],
   "source": [
    "(samsung_train_data['Activity'].value_counts()/ len(samsung_train_data)).T"
   ]
  },
  {
   "cell_type": "markdown",
   "metadata": {},
   "source": [
    "## Random Forest Classifier"
   ]
  },
  {
   "cell_type": "code",
   "execution_count": 67,
   "metadata": {},
   "outputs": [
    {
     "name": "stdout",
     "output_type": "stream",
     "text": [
      "---RFC takes 4.770235776901245 seconds ---\n",
      "                    precision    recall  f1-score   support\n",
      "\n",
      "            LAYING       1.00      1.00      1.00       537\n",
      "           SITTING       0.89      0.88      0.89       491\n",
      "          STANDING       0.89      0.90      0.90       532\n",
      "           WALKING       0.84      0.95      0.89       496\n",
      "WALKING_DOWNSTAIRS       0.93      0.85      0.89       420\n",
      "  WALKING_UPSTAIRS       0.89      0.83      0.86       471\n",
      "\n",
      "       avg / total       0.91      0.91      0.91      2947\n",
      "\n",
      "[0.89145183 0.89734874 0.9122449  0.90605854 0.93051771]\n",
      "mean = 0.908\n"
     ]
    }
   ],
   "source": [
    "from sklearn.metrics import classification_report\n",
    "\n",
    "start_time = time.time()\n",
    "\n",
    "rfc1 = ensemble.RandomForestClassifier(random_state=42)\n",
    "rfc1.fit(X_train,y_train)\n",
    "cv1 = cross_val_score(rfc1, X_train, y_train, cv=5)\n",
    "\n",
    "print(\"---RFC takes %s seconds ---\" % (time.time() - start_time))\n",
    "\n",
    "#Test\n",
    "y_true, y_pred = y_test, rfc1.predict(X_test)\n",
    "print(classification_report(y_true, y_pred))\n",
    "\n",
    "print(cv1)\n",
    "print(\"mean = {:.3}\".format(cv1.mean()))"
   ]
  },
  {
   "cell_type": "markdown",
   "metadata": {},
   "source": [
    "## Variable Importance"
   ]
  },
  {
   "cell_type": "code",
   "execution_count": 68,
   "metadata": {},
   "outputs": [],
   "source": [
    "#Creating a dataframe to examine the tresholds need to run new RFCs\n",
    "\n",
    "feature_importances = pd.DataFrame(rfc1.feature_importances_,\n",
    "                                   index = X_train.columns,\n",
    "                                    columns=['importance']).sort_values('importance', ascending=False)"
   ]
  },
  {
   "cell_type": "code",
   "execution_count": 81,
   "metadata": {
    "scrolled": true
   },
   "outputs": [
    {
     "data": {
      "text/plain": [
       "<matplotlib.axes._subplots.AxesSubplot at 0x213ca77d2b0>"
      ]
     },
     "execution_count": 81,
     "metadata": {},
     "output_type": "execute_result"
    },
    {
     "data": {
      "image/png": "[encoded data removed]",
      "text/plain": [
       "<Figure size 432x288 with 1 Axes>"
      ]
     },
     "metadata": {},
     "output_type": "display_data"
    }
   ],
   "source": [
    "feature_graph = feature_importances['importance'].nlargest(10)\n",
    "plt.xlabel('Relative importance', fontsize=15)\n",
    "plt.ylabel('Feature', fontsize=15)\n",
    "plt.title(\"RF Feature Importance\", fontsize=20)\n",
    "feature_graph.plot.barh()"
   ]
  },
  {
   "cell_type": "code",
   "execution_count": 93,
   "metadata": {},
   "outputs": [
    {
     "data": {
      "text/plain": [
       "array([1.99928346e-04, 1.92248401e-04, 2.00134294e-04, 3.54696055e-04,\n",
       "       1.71482635e-04, 1.19170059e-04, 1.27875022e-03, 4.76059954e-04,\n",
       "       2.42459385e-04, 1.25537522e-02, 1.18126077e-04, 1.01202588e-04,\n",
       "       3.28026513e-04, 3.83171547e-04, 6.28111720e-04, 2.67814336e-04,\n",
       "       8.92403593e-03, 5.35824579e-04, 6.49867164e-04, 2.10001091e-04,\n",
       "       2.72501719e-04, 4.35080818e-04, 2.60426591e-03, 2.83807010e-04,\n",
       "       5.74791114e-04, 1.96618444e-04, 1.91572662e-04, 1.46682937e-04,\n",
       "       4.75872517e-04, 7.73120591e-04, 8.90109613e-05, 1.30063927e-04,\n",
       "       1.20514978e-04, 3.45893213e-04, 3.63285464e-04, 1.79621758e-04,\n",
       "       1.53448237e-04, 3.82601912e-03, 1.34873201e-03, 9.57536950e-04,\n",
       "       1.31208599e-02, 1.82339795e-02, 4.06329321e-03, 1.70035399e-04,\n",
       "       2.44737495e-04, 9.07651579e-05, 1.75034955e-04, 2.54489688e-04,\n",
       "       6.04101946e-05, 1.21792901e-02, 2.44955767e-02, 5.45286257e-03,\n",
       "       3.11527798e-02, 1.80088122e-02, 3.68023722e-03, 5.94327292e-03,\n",
       "       2.82182277e-02, 2.40774654e-02, 1.16253035e-02, 7.37030310e-05,\n",
       "       4.24135289e-04, 1.75170219e-04, 3.21217406e-03, 6.60896901e-03,\n",
       "       3.32781495e-03, 1.95270127e-03, 1.31053225e-03, 2.83674804e-03,\n",
       "       1.30796346e-03, 1.13653976e-03, 1.68510232e-03, 4.09477108e-04,\n",
       "       6.66704001e-04, 1.67823034e-02, 1.30652546e-02, 1.82050906e-02,\n",
       "       1.05076637e-03, 6.22884890e-03, 5.54520899e-04, 7.56518694e-04,\n",
       "       3.25189458e-05, 8.15773618e-05, 1.29970064e-04, 2.07007258e-02,\n",
       "       5.44241076e-04, 3.23164987e-04, 0.00000000e+00, 2.03966895e-02,\n",
       "       5.24327021e-04, 1.06417819e-03, 3.06265105e-04, 1.09855950e-03,\n",
       "       6.87439059e-04, 1.19901790e-03, 3.46067143e-04, 4.00463570e-02,\n",
       "       5.46239185e-03, 2.19282353e-04, 2.32006615e-04, 0.00000000e+00,\n",
       "       4.80938267e-04, 2.15850319e-04, 1.18998774e-04, 1.14648619e-04,\n",
       "       1.75320054e-04, 9.37915766e-05, 2.66216094e-04, 3.00225925e-04,\n",
       "       0.00000000e+00, 1.63109261e-04, 1.90891709e-04, 4.47571638e-06,\n",
       "       6.38633044e-05, 2.58367181e-04, 4.09626512e-05, 0.00000000e+00,\n",
       "       5.41058037e-04, 5.38523731e-04, 4.91040361e-05, 8.88185925e-04,\n",
       "       1.68765369e-03, 2.88937006e-04, 8.51713707e-04, 1.01489361e-03,\n",
       "       1.16675633e-03, 9.10901565e-04, 8.90371672e-04, 9.19960982e-04,\n",
       "       1.19430533e-03, 2.21898593e-03, 3.01196940e-04, 5.21256514e-04,\n",
       "       1.29021707e-03, 2.57901212e-04, 5.83227110e-04, 4.97480951e-04,\n",
       "       2.51379957e-03, 1.71098501e-03, 1.17196975e-03, 4.47946153e-03,\n",
       "       3.63800248e-04, 4.98727272e-04, 4.41650978e-03, 7.70665162e-04,\n",
       "       2.61110572e-04, 1.27523007e-03, 3.13350217e-05, 1.63743151e-04,\n",
       "       2.47967635e-04, 1.06540889e-03, 4.00109788e-04, 1.48428688e-04,\n",
       "       2.46604869e-04, 2.81035428e-04, 5.22807677e-05, 2.53611545e-04,\n",
       "       1.77032608e-03, 1.45860935e-03, 1.91662169e-04, 8.92081701e-04,\n",
       "       3.52873061e-04, 2.15834691e-05, 3.76266074e-04, 1.01498297e-03,\n",
       "       6.13573337e-05, 3.19802903e-03, 4.33217102e-03, 4.58174215e-04,\n",
       "       1.49106419e-04, 9.36308377e-04, 3.94861481e-04, 9.39543159e-05,\n",
       "       9.44533566e-04, 1.22240229e-03, 2.94480740e-04, 3.43615496e-04,\n",
       "       7.35211928e-03, 5.57118968e-05, 1.22510155e-03, 9.06697244e-04,\n",
       "       3.08323208e-05, 4.05789160e-02, 6.36694177e-04, 2.45520181e-05,\n",
       "       5.06262491e-04, 2.48337670e-04, 4.05129316e-04, 2.42019588e-04,\n",
       "       4.58511129e-04, 1.40350144e-04, 3.68602226e-04, 1.34047247e-04,\n",
       "       4.50417640e-04, 2.21116006e-04, 3.25740837e-05, 1.84833134e-04,\n",
       "       1.56909635e-04, 6.74156251e-04, 4.27899965e-04, 3.18623808e-04,\n",
       "       1.11654521e-04, 7.36569094e-03, 3.79031581e-03, 6.70002019e-04,\n",
       "       9.67401357e-05, 4.25933625e-05, 2.40333872e-03, 1.68880610e-04,\n",
       "       0.00000000e+00, 1.75836381e-03, 3.41097212e-04, 2.16284042e-04,\n",
       "       1.86527840e-04, 1.26460870e-04, 1.53630774e-02, 8.82005637e-04,\n",
       "       9.20883266e-04, 0.00000000e+00, 8.94245160e-05, 1.55685756e-03,\n",
       "       1.56078101e-04, 0.00000000e+00, 8.79455296e-03, 7.54971705e-04,\n",
       "       2.68796861e-04, 2.00527253e-04, 3.09336642e-05, 2.47074850e-04,\n",
       "       2.12778537e-04, 9.06200621e-05, 2.17787952e-04, 8.38009054e-05,\n",
       "       6.03525974e-04, 8.34579802e-04, 2.18494122e-05, 0.00000000e+00,\n",
       "       2.84264370e-04, 1.10076893e-04, 4.02953950e-04, 6.66685413e-04,\n",
       "       2.62001497e-04, 2.72786961e-04, 1.46591258e-04, 5.52582780e-05,\n",
       "       8.60668387e-04, 1.80740807e-04, 1.77339444e-04, 3.24250060e-04,\n",
       "       5.89828470e-04, 1.88395694e-04, 4.60271080e-04, 1.77475853e-04,\n",
       "       3.57035800e-04, 8.05878759e-05, 2.63317183e-04, 1.59503774e-04,\n",
       "       5.58507517e-05, 2.36927512e-04, 1.70494600e-04, 1.03316259e-04,\n",
       "       1.66338532e-04, 3.75064921e-04, 6.73922343e-05, 1.33621890e-04,\n",
       "       8.45055636e-05, 1.04286440e-02, 2.35831723e-04, 0.00000000e+00,\n",
       "       2.90772122e-03, 1.02079098e-03, 3.28459902e-04, 6.97410875e-04,\n",
       "       2.39217573e-04, 8.90816654e-05, 3.15025756e-03, 2.89188221e-04,\n",
       "       7.53270222e-05, 1.76574722e-04, 1.02525262e-04, 3.61111430e-04,\n",
       "       1.42887409e-04, 1.48117432e-03, 4.43363077e-04, 1.56551331e-04,\n",
       "       3.41205176e-04, 3.14783110e-05, 1.13578776e-04, 2.01003955e-02,\n",
       "       8.20490106e-05, 2.44094322e-04, 2.89243393e-03, 2.82289616e-04,\n",
       "       3.54066603e-04, 2.34759269e-04, 7.88780137e-05, 1.65703058e-03,\n",
       "       8.26001985e-04, 6.56000493e-04, 1.32311242e-03, 7.66680200e-04,\n",
       "       8.31428367e-05, 3.65998334e-04, 3.43733186e-03, 4.86033352e-04,\n",
       "       6.26136499e-04, 2.73536001e-04, 0.00000000e+00, 2.34939288e-04,\n",
       "       3.27532915e-05, 6.88859921e-04, 1.16937881e-02, 0.00000000e+00,\n",
       "       0.00000000e+00, 0.00000000e+00, 1.03031423e-02, 1.85489500e-04,\n",
       "       5.70106308e-04, 3.25249674e-05, 2.17631870e-03, 1.17472417e-04,\n",
       "       0.00000000e+00, 3.24881456e-05, 2.47321608e-04, 3.07984716e-05,\n",
       "       3.35284220e-04, 2.16985217e-04, 0.00000000e+00, 0.00000000e+00,\n",
       "       2.16240752e-04, 8.83272391e-04, 5.17507867e-04, 7.60711873e-05,\n",
       "       4.11966119e-03, 0.00000000e+00, 2.33479162e-04, 2.79683202e-04,\n",
       "       2.22051566e-04, 9.35566623e-05, 2.71144406e-04, 3.89523905e-04,\n",
       "       1.21778809e-04, 1.60807590e-05, 1.43693061e-03, 2.10010531e-04,\n",
       "       2.47488727e-04, 2.84218825e-04, 9.29461818e-04, 4.50872024e-04,\n",
       "       4.78769774e-04, 1.28300377e-03, 8.15112286e-04, 1.26628839e-04,\n",
       "       3.41698453e-04, 1.50309077e-04, 1.97592022e-02, 9.85930623e-05,\n",
       "       1.00465928e-04, 1.69913991e-04, 0.00000000e+00, 0.00000000e+00,\n",
       "       1.41587885e-04, 1.13450105e-04, 2.48239125e-04, 1.44976632e-04,\n",
       "       3.00761971e-04, 1.13884100e-04, 0.00000000e+00, 1.65973157e-04,\n",
       "       1.86779002e-04, 8.02723693e-04, 5.77259245e-04, 4.42717486e-04,\n",
       "       1.59268568e-04, 1.91416198e-04, 2.19147015e-04, 3.85954419e-04,\n",
       "       1.07777984e-04, 3.61384350e-04, 1.80945676e-04, 3.21155462e-05,\n",
       "       2.70529315e-04, 2.87483361e-02, 4.58900220e-04, 2.18253980e-05,\n",
       "       3.46375623e-04, 2.08819777e-04, 2.80506787e-04, 0.00000000e+00,\n",
       "       5.69093172e-05, 1.09546445e-03, 1.16594708e-03, 3.10418921e-05,\n",
       "       1.79310414e-04, 2.02849970e-02, 1.63766457e-05, 1.63711500e-04,\n",
       "       4.16227833e-04, 3.45267723e-04, 0.00000000e+00, 2.18334072e-05,\n",
       "       1.22852098e-04, 2.43491765e-04, 2.24030474e-04, 7.50310965e-05,\n",
       "       8.16247091e-04, 7.27198029e-05, 1.02839872e-04, 5.76080204e-04,\n",
       "       1.16622086e-04, 1.15732519e-03, 2.37890313e-04, 4.14310815e-04,\n",
       "       1.79330674e-04, 1.51514395e-04, 1.85195312e-04, 1.70294807e-04,\n",
       "       5.97288860e-05, 1.24671189e-03, 1.81149484e-04, 9.66568972e-05,\n",
       "       1.27938000e-04, 3.29175324e-04, 5.61588700e-05, 7.78950510e-03,\n",
       "       7.82759931e-05, 1.37394600e-03, 3.67261020e-03, 5.69236293e-05,\n",
       "       4.74834377e-04, 4.31912631e-03, 3.32129633e-04, 6.19548274e-04,\n",
       "       3.90920839e-03, 9.37419861e-04, 4.02619939e-04, 2.54095099e-04,\n",
       "       2.35414712e-04, 2.52889282e-04, 6.35616130e-05, 2.41477336e-03,\n",
       "       7.54336857e-04, 5.00926000e-04, 8.39514192e-05, 2.09489737e-04,\n",
       "       4.25848395e-04, 1.75837663e-03, 6.40970527e-04, 2.05742543e-04,\n",
       "       5.20926087e-03, 2.91134738e-04, 1.23745705e-02, 3.32884628e-03,\n",
       "       5.57140360e-04, 2.86655561e-04, 1.48186024e-03, 7.93976100e-05,\n",
       "       5.17660467e-04, 7.10171383e-04, 5.88629925e-05, 2.36400389e-04,\n",
       "       6.39922483e-04, 6.41613552e-04, 2.52997475e-04, 1.80800354e-04,\n",
       "       2.30237439e-04, 2.78067456e-04, 3.54524555e-04, 3.46200238e-04,\n",
       "       1.71333578e-03, 7.32801375e-04, 1.16364055e-04, 9.37046605e-05,\n",
       "       3.76171708e-03, 2.65082978e-04, 6.70765593e-04, 2.73006790e-04,\n",
       "       8.57969640e-05, 1.53116721e-04, 3.29897738e-04, 0.00000000e+00,\n",
       "       5.65939618e-05, 1.01663423e-04, 9.15597287e-05, 1.10841485e-04,\n",
       "       3.16584405e-05, 1.96758008e-04, 2.45535727e-05, 2.55911746e-04,\n",
       "       4.43705728e-04, 2.58421580e-04, 4.85837944e-04, 8.97478998e-05,\n",
       "       2.10692607e-04, 5.03761511e-04, 2.15961452e-04, 3.33900709e-04,\n",
       "       1.48962292e-04, 3.39847210e-04, 1.07713452e-04, 1.31515913e-03,\n",
       "       7.93844985e-04, 4.20987530e-05, 5.78491204e-04, 7.03054592e-04,\n",
       "       1.98156643e-02, 1.65245600e-03, 3.03864891e-05, 1.91120988e-03,\n",
       "       2.12981730e-03, 8.23628743e-04, 1.03152097e-03, 5.63764680e-04,\n",
       "       1.21760640e-03, 3.19490507e-04, 3.46192232e-04, 3.19871249e-04,\n",
       "       5.80169030e-03, 5.62525463e-05, 3.54387150e-04, 5.76734359e-05,\n",
       "       6.62062660e-04, 1.06984180e-04, 2.17784515e-04, 3.08123266e-05,\n",
       "       3.93588709e-04, 1.94754213e-04, 5.15012333e-04, 7.79012184e-04,\n",
       "       7.83456970e-05, 2.34131762e-04, 3.86431367e-04, 4.85989069e-05,\n",
       "       4.65574960e-04, 6.58832888e-04, 7.03214721e-04, 3.33426227e-04,\n",
       "       2.12820182e-04, 1.33768384e-03, 3.80223786e-04, 2.60616163e-04,\n",
       "       4.01690251e-04, 9.15979135e-05, 0.00000000e+00, 8.83605128e-04,\n",
       "       2.20627924e-04, 2.80835357e-05, 6.35220837e-04, 1.08159855e-04,\n",
       "       7.58923766e-05, 1.65491196e-04, 6.38604366e-05, 7.19781270e-05,\n",
       "       1.27435238e-03, 2.73773533e-04, 1.13207499e-04, 1.55909574e-04,\n",
       "       5.54736338e-04, 4.08769338e-04, 5.86772670e-02, 3.87511066e-02,\n",
       "       4.83952666e-03])"
      ]
     },
     "execution_count": 93,
     "metadata": {},
     "output_type": "execute_result"
    }
   ],
   "source": [
    "rfc1.feature_importances_"
   ]
  },
  {
   "cell_type": "code",
   "execution_count": 94,
   "metadata": {},
   "outputs": [
    {
     "data": {
      "text/plain": [
       "array([1.10052336e-03, 2.09122897e-03, 7.98858370e-04, 0.00000000e+00,\n",
       "       1.81128443e-04, 1.10317618e-04, 2.69446352e-04, 3.32161950e-04,\n",
       "       1.14146693e-03, 7.29318565e-03, 0.00000000e+00, 4.72927222e-04,\n",
       "       1.53947480e-03, 1.88568192e-04, 9.70452136e-04, 2.22182894e-04,\n",
       "       1.04134855e-03, 2.06868877e-04, 4.50553810e-04, 1.45538764e-03,\n",
       "       1.40368320e-04, 1.15032248e-03, 8.37661092e-03, 1.71712506e-03,\n",
       "       2.05979307e-03, 8.32913999e-04, 0.00000000e+00, 0.00000000e+00,\n",
       "       4.32716026e-03, 0.00000000e+00, 1.55800997e-04, 7.06363380e-04,\n",
       "       3.79197601e-03, 9.48704771e-04, 1.53492246e-03, 3.97617988e-04,\n",
       "       1.09493347e-03, 1.05461633e-02, 1.64201218e-03, 2.76054373e-03,\n",
       "       1.83828683e-03, 4.47940751e-03, 4.02630011e-03, 2.10981172e-03,\n",
       "       1.45381937e-04, 2.88147807e-04, 3.26104459e-03, 0.00000000e+00,\n",
       "       1.33860284e-04, 1.54295174e-03, 9.95437548e-03, 1.33582263e-02,\n",
       "       2.76216035e-02, 1.37262443e-02, 3.65631143e-03, 4.68146310e-03,\n",
       "       1.09266304e-03, 3.67478533e-02, 1.58072139e-03, 1.23285098e-04,\n",
       "       2.37570856e-03, 1.70894076e-04, 9.52153391e-04, 1.93385785e-03,\n",
       "       3.96185880e-05, 4.02596154e-03, 8.37474570e-04, 1.66840624e-03,\n",
       "       1.18879331e-03, 5.97387113e-04, 1.31673898e-03, 7.25227130e-04,\n",
       "       9.00505536e-04, 7.73000106e-04, 2.80411630e-03, 1.81042476e-03,\n",
       "       2.85555646e-03, 6.44262082e-04, 2.79701423e-03, 5.04501104e-04,\n",
       "       1.54595901e-04, 4.00723446e-04, 2.50626595e-03, 1.04286636e-03,\n",
       "       3.31214590e-04, 1.08750185e-03, 1.24417748e-03, 1.66377621e-04,\n",
       "       1.94030757e-04, 5.16464708e-03, 3.98564525e-04, 3.98176806e-03,\n",
       "       1.51590609e-03, 3.47113587e-04, 3.10583124e-04, 1.46572558e-04,\n",
       "       4.14746019e-04, 5.08624826e-04, 3.12232528e-04, 4.56515928e-05,\n",
       "       5.83531057e-04, 2.80205099e-03, 4.07251831e-03, 3.94035285e-04,\n",
       "       4.23444501e-03, 4.99763756e-04, 9.26636467e-05, 2.26482974e-03,\n",
       "       1.45738064e-04, 4.17596342e-04, 6.19345854e-04, 2.14423524e-04,\n",
       "       1.22288450e-03, 1.37235721e-03, 9.17640148e-04, 1.26542057e-03,\n",
       "       3.52246027e-03, 2.05876095e-03, 1.55876655e-03, 7.80656396e-04,\n",
       "       3.94274783e-03, 3.30885923e-04, 8.04455586e-05, 6.56409517e-05,\n",
       "       1.64948285e-04, 0.00000000e+00, 3.27440567e-04, 5.78832383e-04,\n",
       "       7.39178670e-05, 1.03522931e-02, 2.39174513e-03, 9.49284832e-04,\n",
       "       3.44710740e-03, 2.89689398e-04, 1.05408850e-04, 7.15502367e-04,\n",
       "       2.33439438e-03, 1.25962648e-03, 1.01005305e-03, 5.18852825e-03,\n",
       "       1.93113502e-03, 2.00751399e-03, 7.56533132e-04, 2.56557108e-03,\n",
       "       1.94130115e-04, 1.61298907e-03, 0.00000000e+00, 0.00000000e+00,\n",
       "       3.09186533e-04, 2.43495981e-03, 6.73843243e-04, 8.02616807e-04,\n",
       "       7.85504766e-04, 0.00000000e+00, 3.57850450e-04, 8.88612070e-04,\n",
       "       2.25574443e-03, 2.68857406e-03, 1.61377570e-03, 7.49226976e-03,\n",
       "       7.58338314e-04, 6.29433709e-05, 6.33958063e-05, 2.50004732e-04,\n",
       "       3.71108492e-04, 7.37862278e-04, 2.94312823e-03, 1.89569181e-03,\n",
       "       8.13588265e-04, 3.36477335e-03, 1.64482266e-03, 1.19824036e-03,\n",
       "       3.02883788e-03, 3.97514002e-04, 5.83550847e-04, 0.00000000e+00,\n",
       "       6.73833767e-04, 2.96196793e-04, 1.73009201e-03, 7.09492019e-03,\n",
       "       2.81661076e-03, 7.66420090e-04, 4.88014217e-04, 8.42484244e-04,\n",
       "       3.35011470e-03, 9.52766578e-04, 2.87410819e-03, 2.88661091e-03,\n",
       "       2.92053914e-03, 4.93072632e-04, 1.05195494e-04, 5.18203876e-04,\n",
       "       3.52532860e-03, 1.51786811e-03, 2.12156019e-03, 9.75449068e-04,\n",
       "       3.51836523e-03, 2.77277151e-03, 6.18384053e-03, 4.05739285e-03,\n",
       "       2.36114599e-04, 3.37949877e-04, 4.47629853e-04, 2.67005871e-03,\n",
       "       3.21576614e-04, 1.90393123e-04, 1.87233133e-04, 2.30246616e-04,\n",
       "       5.48860876e-04, 2.25913608e-03, 1.75949317e-04, 9.04036720e-05,\n",
       "       1.21066188e-04, 2.35603896e-04, 3.73121292e-04, 4.69360966e-04,\n",
       "       5.47962467e-04, 2.97745773e-04, 3.87250602e-04, 1.30912704e-03,\n",
       "       3.55168485e-04, 3.47906391e-04, 8.61105566e-04, 3.44999124e-04,\n",
       "       1.97220523e-05, 0.00000000e+00, 2.55572220e-04, 0.00000000e+00,\n",
       "       5.74754274e-04, 8.99647904e-04, 1.31030268e-04, 4.93521818e-04,\n",
       "       3.14192827e-04, 1.95587111e-03, 6.46012770e-04, 6.30120584e-04,\n",
       "       9.37769843e-05, 0.00000000e+00, 9.41992129e-04, 9.88605298e-05,\n",
       "       0.00000000e+00, 0.00000000e+00, 2.05119762e-04, 0.00000000e+00,\n",
       "       1.72566163e-04, 4.87968177e-04, 0.00000000e+00, 9.03014783e-04,\n",
       "       2.10431142e-03, 5.43213698e-04, 1.09167281e-03, 1.52775842e-04,\n",
       "       2.07152659e-04, 0.00000000e+00, 0.00000000e+00, 3.03577741e-04,\n",
       "       2.75901661e-04, 1.89704897e-04, 0.00000000e+00, 2.66345697e-04,\n",
       "       8.02533458e-05, 2.53708491e-03, 1.73057215e-04, 6.66146434e-05,\n",
       "       2.82499123e-04, 7.16319450e-04, 2.26595962e-04, 3.18912178e-04,\n",
       "       2.24084572e-03, 1.13715755e-03, 7.15953010e-04, 3.40153660e-04,\n",
       "       1.67366464e-04, 1.02866772e-04, 5.20014232e-03, 2.00101948e-04,\n",
       "       1.13672255e-03, 4.13474728e-03, 8.25027596e-06, 3.29925137e-04,\n",
       "       1.68174688e-04, 0.00000000e+00, 0.00000000e+00, 4.35808907e-04,\n",
       "       1.39660353e-03, 8.17221691e-04, 7.45626077e-04, 1.56907641e-04,\n",
       "       0.00000000e+00, 4.72261651e-04, 8.37722355e-03, 5.75014437e-04,\n",
       "       0.00000000e+00, 3.29483510e-03, 2.12164028e-04, 1.64953311e-03,\n",
       "       1.86626048e-03, 8.77462663e-04, 7.98396805e-04, 1.11034360e-04,\n",
       "       1.65193143e-03, 4.51624767e-04, 1.33417741e-02, 9.54659159e-04,\n",
       "       4.20081525e-04, 1.27621044e-04, 1.50289075e-04, 7.81232683e-04,\n",
       "       1.43330486e-04, 1.10199120e-03, 4.30480842e-04, 0.00000000e+00,\n",
       "       1.31053974e-03, 9.08730660e-05, 0.00000000e+00, 2.03618978e-04,\n",
       "       3.06154532e-03, 1.11045148e-03, 1.12646843e-03, 0.00000000e+00,\n",
       "       0.00000000e+00, 1.14042356e-03, 4.63723699e-04, 0.00000000e+00,\n",
       "       6.34564022e-04, 1.99160409e-05, 0.00000000e+00, 8.52334726e-04,\n",
       "       0.00000000e+00, 3.36207000e-04, 3.32499977e-03, 2.88945511e-04,\n",
       "       1.61690380e-04, 1.70530883e-04, 2.56566088e-04, 2.28669540e-04,\n",
       "       2.27141800e-04, 1.89515522e-04, 3.45488373e-04, 0.00000000e+00,\n",
       "       6.18464684e-04, 2.10305066e-04, 1.61052554e-04, 0.00000000e+00,\n",
       "       1.62314199e-04, 1.44371408e-06, 1.21586742e-03, 9.66127314e-05,\n",
       "       1.64600523e-04, 7.65466065e-04, 2.36394895e-04, 0.00000000e+00,\n",
       "       0.00000000e+00, 4.12548781e-04, 8.81688246e-04, 0.00000000e+00,\n",
       "       1.25712454e-04, 5.03575522e-04, 2.47944173e-04, 7.16822002e-05,\n",
       "       4.13615657e-04, 1.43819992e-04, 0.00000000e+00, 2.47923958e-03,\n",
       "       2.09818099e-04, 2.34212621e-04, 7.72049596e-04, 0.00000000e+00,\n",
       "       1.90195570e-04, 4.60768195e-03, 2.21022659e-04, 2.86966732e-03,\n",
       "       2.59290389e-03, 6.29725616e-03, 2.95122991e-03, 6.56793102e-04,\n",
       "       6.51350794e-04, 1.79765645e-06, 9.40410370e-04, 4.01452695e-04,\n",
       "       1.37991181e-04, 1.01430334e-03, 1.44035064e-03, 1.38021355e-03,\n",
       "       2.25052608e-04, 0.00000000e+00, 0.00000000e+00, 0.00000000e+00,\n",
       "       0.00000000e+00, 3.81352309e-04, 1.82707061e-03, 2.24682730e-04,\n",
       "       0.00000000e+00, 6.84687180e-04, 4.42012485e-04, 1.84520840e-03,\n",
       "       2.38413101e-04, 8.39574255e-04, 0.00000000e+00, 0.00000000e+00,\n",
       "       0.00000000e+00, 1.56360002e-04, 3.65145331e-04, 1.32174356e-03,\n",
       "       0.00000000e+00, 0.00000000e+00, 0.00000000e+00, 1.61855256e-04,\n",
       "       0.00000000e+00, 6.68097938e-03, 1.28460997e-03, 1.59390395e-03,\n",
       "       2.96029185e-04, 1.03159747e-04, 2.77783777e-04, 2.65347969e-06,\n",
       "       2.37833683e-05, 5.42035491e-04, 1.84859104e-03, 4.81804916e-04,\n",
       "       3.48458447e-04, 5.64644161e-04, 7.15365960e-04, 4.59559969e-04,\n",
       "       5.38864678e-04, 0.00000000e+00, 2.97751583e-04, 4.52383998e-04,\n",
       "       0.00000000e+00, 1.37578551e-03, 1.86838807e-04, 0.00000000e+00,\n",
       "       2.17758059e-03, 1.59523139e-03, 3.16197534e-03, 1.71230157e-04,\n",
       "       1.78997677e-04, 3.48417452e-04, 9.67711374e-04, 0.00000000e+00,\n",
       "       0.00000000e+00, 4.09826581e-05, 1.36418229e-04, 1.94158685e-04,\n",
       "       0.00000000e+00, 3.97354175e-04, 4.89536991e-05, 0.00000000e+00,\n",
       "       2.17183750e-03, 1.14119596e-03, 1.07105954e-02, 4.00450768e-03,\n",
       "       5.57166270e-04, 0.00000000e+00, 9.63916609e-04, 8.99306978e-05,\n",
       "       1.10410530e-04, 4.86118193e-04, 2.17436278e-03, 6.88566036e-04,\n",
       "       2.07959194e-03, 4.71724834e-03, 3.16740433e-04, 2.53826629e-04,\n",
       "       1.23623401e-04, 5.95543983e-05, 9.20033341e-05, 0.00000000e+00,\n",
       "       1.01894422e-03, 0.00000000e+00, 1.48367284e-06, 7.12277361e-04,\n",
       "       0.00000000e+00, 0.00000000e+00, 1.37859856e-03, 4.11959127e-04,\n",
       "       5.46722363e-04, 0.00000000e+00, 1.92541577e-04, 6.75009378e-04,\n",
       "       0.00000000e+00, 2.57801705e-05, 9.02617978e-05, 7.78242754e-04,\n",
       "       1.92189924e-04, 6.86012885e-05, 0.00000000e+00, 0.00000000e+00,\n",
       "       2.20282785e-03, 1.26248334e-03, 3.82235356e-03, 4.29161134e-04,\n",
       "       0.00000000e+00, 7.49287008e-04, 5.47752330e-04, 0.00000000e+00,\n",
       "       0.00000000e+00, 3.86136672e-03, 2.93317019e-04, 1.33056028e-03,\n",
       "       0.00000000e+00, 0.00000000e+00, 3.55941584e-04, 2.10576702e-03,\n",
       "       3.69448389e-03, 4.03950354e-04, 0.00000000e+00, 4.71167877e-04,\n",
       "       1.09232698e-03, 2.40072309e-04, 0.00000000e+00, 1.92866250e-04,\n",
       "       3.49079138e-04, 6.33989428e-04, 1.58068636e-04, 0.00000000e+00,\n",
       "       1.16604013e-05, 0.00000000e+00, 3.26531233e-03, 0.00000000e+00,\n",
       "       2.50076736e-05, 0.00000000e+00, 3.79931531e-04, 0.00000000e+00,\n",
       "       5.30649356e-04, 1.66436537e-04, 7.03239812e-04, 8.40055516e-05,\n",
       "       1.14061646e-04, 2.53686799e-05, 8.18388944e-05, 0.00000000e+00,\n",
       "       9.07741849e-05, 2.38020413e-04, 8.49400303e-05, 1.14548289e-04,\n",
       "       3.42389593e-04, 1.74349856e-03, 1.32667963e-03, 3.38578359e-04,\n",
       "       4.81498231e-04, 0.00000000e+00, 9.83736295e-04, 5.35884965e-05,\n",
       "       1.13723967e-03, 8.29663578e-04, 0.00000000e+00, 0.00000000e+00,\n",
       "       0.00000000e+00, 0.00000000e+00, 3.36115596e-04, 2.84966612e-03,\n",
       "       7.40764768e-04, 0.00000000e+00, 3.14329229e-04, 5.56598865e-05,\n",
       "       4.11141384e-03, 1.51534939e-03, 3.11759526e-03, 4.23721421e-03,\n",
       "       6.14681683e-03])"
      ]
     },
     "execution_count": 94,
     "metadata": {},
     "output_type": "execute_result"
    }
   ],
   "source": [
    "clf.feature_importances_"
   ]
  },
  {
   "cell_type": "code",
   "execution_count": null,
   "metadata": {},
   "outputs": [],
   "source": []
  },
  {
   "cell_type": "markdown",
   "metadata": {},
   "source": [
    "## Training the top 20 Features"
   ]
  },
  {
   "cell_type": "code",
   "execution_count": 31,
   "metadata": {},
   "outputs": [
    {
     "data": {
      "text/plain": [
       "0.016782303422232137"
      ]
     },
     "execution_count": 31,
     "metadata": {},
     "output_type": "execute_result"
    }
   ],
   "source": [
    "#change to 19\n",
    "feature_importances['importance'][:19].min()"
   ]
  },
  {
   "cell_type": "code",
   "execution_count": 32,
   "metadata": {},
   "outputs": [],
   "source": [
    "#feature_importances['importance'][:20]"
   ]
  },
  {
   "cell_type": "code",
   "execution_count": 33,
   "metadata": {},
   "outputs": [
    {
     "data": {
      "text/plain": [
       "SelectFromModel(estimator=RandomForestClassifier(bootstrap=True, class_weight=None, criterion='gini',\n",
       "            max_depth=None, max_features='auto', max_leaf_nodes=None,\n",
       "            min_impurity_decrease=0.0, min_impurity_split=None,\n",
       "            min_samples_leaf=1, min_samples_split=2,\n",
       "            min_weight_fraction_leaf=0.0, n_estimators=10, n_jobs=1,\n",
       "            oob_score=False, random_state=42, verbose=0, warm_start=False),\n",
       "        norm_order=1, prefit=False, threshold=0.016782303422232137)"
      ]
     },
     "execution_count": 33,
     "metadata": {},
     "output_type": "execute_result"
    }
   ],
   "source": [
    "from sklearn.feature_selection import SelectFromModel\n",
    "\n",
    "# Create a selector object that will use the random forest classifier to identify\n",
    "# features that have an importance of more than 0.15\n",
    "sfm_t20 = SelectFromModel(rfc1, threshold=0.016782303422232137)\n",
    "\n",
    "# Train the selector\n",
    "sfm_t20.fit(X_train, y_train)\n"
   ]
  },
  {
   "cell_type": "code",
   "execution_count": 34,
   "metadata": {},
   "outputs": [],
   "source": [
    "X_important_train_t20 = sfm_t20.transform(X_train)\n",
    "X_important_test_t20 = sfm_t20.transform(X_test)"
   ]
  },
  {
   "cell_type": "code",
   "execution_count": 35,
   "metadata": {},
   "outputs": [
    {
     "name": "stdout",
     "output_type": "stream",
     "text": [
      "---RFC top 20 features takes 1.0741245746612549 seconds ---\n",
      "                    precision    recall  f1-score   support\n",
      "\n",
      "            LAYING       1.00      1.00      1.00       537\n",
      "           SITTING       0.77      0.77      0.77       491\n",
      "          STANDING       0.79      0.79      0.79       532\n",
      "           WALKING       0.75      0.83      0.79       496\n",
      "WALKING_DOWNSTAIRS       0.86      0.80      0.83       420\n",
      "  WALKING_UPSTAIRS       0.80      0.76      0.78       471\n",
      "\n",
      "       avg / total       0.83      0.83      0.83      2947\n",
      "\n",
      "[0.84464043 0.85384092 0.86394558 0.88495575 0.91825613]\n",
      "mean = 0.873\n"
     ]
    }
   ],
   "source": [
    "from sklearn.metrics import classification_report\n",
    "\n",
    "start_time = time.time()\n",
    "\n",
    "rfc_important_t20 = ensemble.RandomForestClassifier(random_state=42)\n",
    "rfc_important_t20.fit(X_important_train_t20,y_train)\n",
    "cv_important_t20 = cross_val_score(rfc_important_t20, X_important_train_t20, y_train, cv=5)\n",
    "\n",
    "print(\"---RFC top 20 features takes %s seconds ---\" % (time.time() - start_time))\n",
    "\n",
    "#Test\n",
    "\n",
    "\"\"\"y_true, y_pred = y_test, rfc1.predict(X_test)\n",
    "print(classification_report(y_true, y_pred))\n",
    "\"\"\"\n",
    "y_true, y_pred = y_test, rfc_important_t20.predict(X_important_test_t20)\n",
    "print(classification_report(y_true, y_pred))\n",
    "\n",
    "print(cv_important_t20)\n",
    "print(\"mean = {:.3}\".format(cv_important_t20.mean()))"
   ]
  },
  {
   "cell_type": "markdown",
   "metadata": {},
   "source": [
    "## Training the top 50 features"
   ]
  },
  {
   "cell_type": "code",
   "execution_count": 36,
   "metadata": {},
   "outputs": [
    {
     "data": {
      "text/plain": [
       "0.0039092083932506065"
      ]
     },
     "execution_count": 36,
     "metadata": {},
     "output_type": "execute_result"
    }
   ],
   "source": [
    "#These are the top 50 features most important to the random forest classifier\n",
    "#include runtime\n",
    "\n",
    "feature_importances['importance'][:49].min()"
   ]
  },
  {
   "cell_type": "code",
   "execution_count": 37,
   "metadata": {},
   "outputs": [
    {
     "data": {
      "text/plain": [
       "SelectFromModel(estimator=RandomForestClassifier(bootstrap=True, class_weight=None, criterion='gini',\n",
       "            max_depth=None, max_features='auto', max_leaf_nodes=None,\n",
       "            min_impurity_decrease=0.0, min_impurity_split=None,\n",
       "            min_samples_leaf=1, min_samples_split=2,\n",
       "            min_weight_fraction_leaf=0.0, n_estimators=10, n_jobs=1,\n",
       "            oob_score=False, random_state=42, verbose=0, warm_start=False),\n",
       "        norm_order=1, prefit=False, threshold=0.0039092083932506065)"
      ]
     },
     "execution_count": 37,
     "metadata": {},
     "output_type": "execute_result"
    }
   ],
   "source": [
    "# Create a selector object that will use the random forest classifier to identify\n",
    "# features that have an importance of more than 0.15\n",
    "sfm_t50 = SelectFromModel(rfc1, threshold=0.0039092083932506065)\n",
    "\n",
    "# Train the selector\n",
    "sfm_t50.fit(X_train, y_train)"
   ]
  },
  {
   "cell_type": "code",
   "execution_count": 38,
   "metadata": {},
   "outputs": [],
   "source": [
    "X_important_train_t50 = sfm_t50.transform(X_train)\n",
    "X_important_test_t50 = sfm_t50.transform(X_test)"
   ]
  },
  {
   "cell_type": "code",
   "execution_count": 39,
   "metadata": {},
   "outputs": [
    {
     "name": "stdout",
     "output_type": "stream",
     "text": [
      "---RFC top 50 features takes 1.7473304271697998 seconds ---\n",
      "                    precision    recall  f1-score   support\n",
      "\n",
      "            LAYING       1.00      1.00      1.00       537\n",
      "           SITTING       0.85      0.77      0.81       491\n",
      "          STANDING       0.81      0.87      0.84       532\n",
      "           WALKING       0.85      0.92      0.88       496\n",
      "WALKING_DOWNSTAIRS       0.91      0.85      0.88       420\n",
      "  WALKING_UPSTAIRS       0.84      0.82      0.83       471\n",
      "\n",
      "       avg / total       0.88      0.87      0.87      2947\n",
      "\n",
      "[0.86770692 0.88647179 0.87210884 0.9128659  0.92711172]\n",
      "mean = 0.893\n"
     ]
    }
   ],
   "source": [
    "from sklearn.metrics import classification_report\n",
    "\n",
    "start_time = time.time()\n",
    "\n",
    "rfc_important_t50 = ensemble.RandomForestClassifier(random_state=42)\n",
    "rfc_important_t50.fit(X_important_train_t50,y_train)\n",
    "cv_important_t50 = cross_val_score(rfc_important_t50, X_important_train_t50, y_train, cv=5)\n",
    "\n",
    "\n",
    "\n",
    "print(\"---RFC top 50 features takes %s seconds ---\" % (time.time() - start_time))\n",
    "\n",
    "y_true, y_pred = y_test, rfc_important_t50.predict(X_important_test_t50)\n",
    "print(classification_report(y_true, y_pred))\n",
    "\n",
    "print(cv_important_t50)\n",
    "print(\"mean = {:.3}\".format(cv_important_t50.mean()))"
   ]
  },
  {
   "cell_type": "markdown",
   "metadata": {},
   "source": [
    "## Training the top 100 features"
   ]
  },
  {
   "cell_type": "code",
   "execution_count": 40,
   "metadata": {},
   "outputs": [
    {
     "name": "stdout",
     "output_type": "stream",
     "text": [
      "0.0012467118900411059\n"
     ]
    }
   ],
   "source": [
    "#Finding the Treshold of the top 100 features\n",
    "\n",
    "print(feature_importances['importance'][:99].min())"
   ]
  },
  {
   "cell_type": "code",
   "execution_count": 41,
   "metadata": {},
   "outputs": [
    {
     "data": {
      "text/plain": [
       "SelectFromModel(estimator=RandomForestClassifier(bootstrap=True, class_weight=None, criterion='gini',\n",
       "            max_depth=None, max_features='auto', max_leaf_nodes=None,\n",
       "            min_impurity_decrease=0.0, min_impurity_split=None,\n",
       "            min_samples_leaf=1, min_samples_split=2,\n",
       "            min_weight_fraction_leaf=0.0, n_estimators=10, n_jobs=1,\n",
       "            oob_score=False, random_state=42, verbose=0, warm_start=False),\n",
       "        norm_order=1, prefit=False, threshold=0.0012467118900411059)"
      ]
     },
     "execution_count": 41,
     "metadata": {},
     "output_type": "execute_result"
    }
   ],
   "source": [
    "# Create a selector object that will use the random forest classifier to identify\n",
    "# features that have an importance of more than 0.15\n",
    "sfm_t100 = SelectFromModel(rfc1, threshold=0.0012467118900411059)\n",
    "\n",
    "# Train the selector\n",
    "sfm_t100.fit(X_train, y_train)"
   ]
  },
  {
   "cell_type": "code",
   "execution_count": 42,
   "metadata": {},
   "outputs": [],
   "source": [
    "X_important_train_t100 = sfm_t100.transform(X_train)\n",
    "X_important_test_t100 = sfm_t100.transform(X_test)"
   ]
  },
  {
   "cell_type": "code",
   "execution_count": 43,
   "metadata": {},
   "outputs": [
    {
     "name": "stdout",
     "output_type": "stream",
     "text": [
      "---RFC top 100 features takes 1.8121798038482666 seconds ---\n",
      "                    precision    recall  f1-score   support\n",
      "\n",
      "            LAYING       1.00      1.00      1.00       537\n",
      "           SITTING       0.88      0.88      0.88       491\n",
      "          STANDING       0.89      0.88      0.89       532\n",
      "           WALKING       0.85      0.96      0.90       496\n",
      "WALKING_DOWNSTAIRS       0.93      0.85      0.89       420\n",
      "  WALKING_UPSTAIRS       0.88      0.83      0.85       471\n",
      "\n",
      "       avg / total       0.91      0.90      0.90      2947\n",
      "\n",
      "[0.90027137 0.87151598 0.88979592 0.92784207 0.92370572]\n",
      "mean = 0.90263\n"
     ]
    }
   ],
   "source": [
    "from sklearn.metrics import classification_report\n",
    "\n",
    "start_time = time.time()\n",
    "\n",
    "rfc_important_t100 = ensemble.RandomForestClassifier(random_state=42)\n",
    "rfc_important_t100.fit(X_important_train_t100,y_train)\n",
    "cv_important_t100 = cross_val_score(rfc_important_t100, X_important_train_t100, y_train, cv=5)\n",
    "\n",
    "\n",
    "print(\"---RFC top 100 features takes %s seconds ---\" % (time.time() - start_time))\n",
    "\n",
    "\n",
    "y_true, y_pred = y_test, rfc_important_t100.predict(X_important_test_t100)\n",
    "print(classification_report(y_true, y_pred))\n",
    "\n",
    "print(cv_important_t100)\n",
    "print(\"mean = {:.5}\".format(cv_important_t100.mean()))"
   ]
  },
  {
   "cell_type": "markdown",
   "metadata": {},
   "source": [
    "## Training the top 200 features"
   ]
  },
  {
   "cell_type": "code",
   "execution_count": 44,
   "metadata": {},
   "outputs": [
    {
     "name": "stdout",
     "output_type": "stream",
     "text": [
      "0.0004974809505637701\n"
     ]
    }
   ],
   "source": [
    "#Finding the Treshold of the top 200 features\n",
    "\n",
    "print(feature_importances['importance'][:199].min())"
   ]
  },
  {
   "cell_type": "code",
   "execution_count": 45,
   "metadata": {},
   "outputs": [
    {
     "data": {
      "text/plain": [
       "SelectFromModel(estimator=RandomForestClassifier(bootstrap=True, class_weight=None, criterion='gini',\n",
       "            max_depth=None, max_features='auto', max_leaf_nodes=None,\n",
       "            min_impurity_decrease=0.0, min_impurity_split=None,\n",
       "            min_samples_leaf=1, min_samples_split=2,\n",
       "            min_weight_fraction_leaf=0.0, n_estimators=10, n_jobs=1,\n",
       "            oob_score=False, random_state=42, verbose=0, warm_start=False),\n",
       "        norm_order=1, prefit=False, threshold=0.0004974809505637701)"
      ]
     },
     "execution_count": 45,
     "metadata": {},
     "output_type": "execute_result"
    }
   ],
   "source": [
    "# Create a selector object that will use the random forest classifier to identify\n",
    "# features that have an importance of more than 0.15\n",
    "sfm_t200 = SelectFromModel(rfc1, threshold=0.0004974809505637701)\n",
    "\n",
    "# Train the selector\n",
    "sfm_t200.fit(X_train, y_train)"
   ]
  },
  {
   "cell_type": "code",
   "execution_count": 46,
   "metadata": {},
   "outputs": [],
   "source": [
    "X_important_train_t200 = sfm_t200.transform(X_train)\n",
    "X_important_test_t200 = sfm_t200.transform(X_test)"
   ]
  },
  {
   "cell_type": "code",
   "execution_count": 47,
   "metadata": {},
   "outputs": [
    {
     "name": "stdout",
     "output_type": "stream",
     "text": [
      "---RFC top 200 features takes 2.787538528442383 seconds ---\n",
      "                    precision    recall  f1-score   support\n",
      "\n",
      "            LAYING       1.00      1.00      1.00       537\n",
      "           SITTING       0.91      0.86      0.88       491\n",
      "          STANDING       0.87      0.92      0.90       532\n",
      "           WALKING       0.88      0.95      0.92       496\n",
      "WALKING_DOWNSTAIRS       0.95      0.84      0.89       420\n",
      "  WALKING_UPSTAIRS       0.87      0.89      0.88       471\n",
      "\n",
      "       avg / total       0.92      0.91      0.91      2947\n",
      "\n",
      "[0.89484396 0.88851122 0.89387755 0.92375766 0.94277929]\n",
      "mean = 0.90875\n"
     ]
    }
   ],
   "source": [
    "from sklearn.metrics import classification_report\n",
    "\n",
    "start_time = time.time()\n",
    "\n",
    "rfc_important_t200 = ensemble.RandomForestClassifier(random_state=42)\n",
    "rfc_important_t200.fit(X_important_train_t200,y_train)\n",
    "cv_important_t200 = cross_val_score(rfc_important_t200, X_important_train_t200, y_train, cv=5)\n",
    "\n",
    "\n",
    "print(\"---RFC top 200 features takes %s seconds ---\" % (time.time() - start_time))\n",
    "#Test\n",
    "\n",
    "y_true, y_pred = y_test, rfc_important_t200.predict(X_important_test_t200)\n",
    "print(classification_report(y_true, y_pred))\n",
    "\n",
    "print(cv_important_t200)\n",
    "print(\"mean = {:.5}\".format(cv_important_t200.mean()))"
   ]
  },
  {
   "cell_type": "markdown",
   "metadata": {},
   "source": [
    "## Training the top 300 features"
   ]
  },
  {
   "cell_type": "code",
   "execution_count": 48,
   "metadata": {},
   "outputs": [
    {
     "name": "stdout",
     "output_type": "stream",
     "text": [
      "0.0002687968609794586\n"
     ]
    }
   ],
   "source": [
    "#Finding the Treshold of the top 300 features\n",
    "\n",
    "print(feature_importances['importance'][:299].min())"
   ]
  },
  {
   "cell_type": "code",
   "execution_count": 49,
   "metadata": {},
   "outputs": [
    {
     "data": {
      "text/plain": [
       "SelectFromModel(estimator=RandomForestClassifier(bootstrap=True, class_weight=None, criterion='gini',\n",
       "            max_depth=None, max_features='auto', max_leaf_nodes=None,\n",
       "            min_impurity_decrease=0.0, min_impurity_split=None,\n",
       "            min_samples_leaf=1, min_samples_split=2,\n",
       "            min_weight_fraction_leaf=0.0, n_estimators=10, n_jobs=1,\n",
       "            oob_score=False, random_state=42, verbose=0, warm_start=False),\n",
       "        norm_order=1, prefit=False, threshold=0.0002687968609794586)"
      ]
     },
     "execution_count": 49,
     "metadata": {},
     "output_type": "execute_result"
    }
   ],
   "source": [
    "# Create a selector object that will use the random forest classifier to identify\n",
    "# features that have an importance of more than 0.15\n",
    "sfm_t300 = SelectFromModel(rfc1, threshold=0.0002687968609794586)\n",
    "\n",
    "# Train the selector\n",
    "sfm_t300.fit(X_train, y_train)"
   ]
  },
  {
   "cell_type": "code",
   "execution_count": 50,
   "metadata": {},
   "outputs": [],
   "source": [
    "X_important_train_t300 = sfm_t300.transform(X_train)\n",
    "X_important_test_t300 = sfm_t300.transform(X_test)"
   ]
  },
  {
   "cell_type": "code",
   "execution_count": 51,
   "metadata": {},
   "outputs": [
    {
     "name": "stdout",
     "output_type": "stream",
     "text": [
      "---RFC top 300 features 3.4088783264160156 seconds ---\n",
      "                    precision    recall  f1-score   support\n",
      "\n",
      "            LAYING       1.00      1.00      1.00       537\n",
      "           SITTING       0.86      0.87      0.87       491\n",
      "          STANDING       0.88      0.87      0.88       532\n",
      "           WALKING       0.85      0.95      0.90       496\n",
      "WALKING_DOWNSTAIRS       0.90      0.82      0.86       420\n",
      "  WALKING_UPSTAIRS       0.86      0.82      0.84       471\n",
      "\n",
      "       avg / total       0.89      0.89      0.89      2947\n",
      "\n",
      "[0.88263229 0.8946295  0.90612245 0.9149081  0.9400545 ]\n",
      "mean = 0.90767\n"
     ]
    }
   ],
   "source": [
    "from sklearn.metrics import classification_report\n",
    "\n",
    "#RANDOM STATE, Seed values put in when done\n",
    "start_time = time.time()\n",
    "rfc_important_t300 = ensemble.RandomForestClassifier(random_state=42)\n",
    "rfc_important_t300.fit(X_important_train_t300,y_train)\n",
    "cv_important_t300 = cross_val_score(rfc_important_t300, X_important_train_t300, y_train, cv=5)\n",
    "\n",
    "\n",
    "print(\"---RFC top 300 features %s seconds ---\" % (time.time() - start_time))\n",
    "\n",
    "#Test\n",
    "\n",
    "y_true, y_pred = y_test, rfc_important_t300.predict(X_important_test_t300)\n",
    "print(classification_report(y_true, y_pred))\n",
    "\n",
    "print(cv_important_t300)\n",
    "print(\"mean = {:.5}\".format(cv_important_t300.mean()))\n",
    "\n",
    "\n",
    "\n"
   ]
  },
  {
   "cell_type": "markdown",
   "metadata": {},
   "source": [
    "## Gradient Boosting Classifier"
   ]
  },
  {
   "cell_type": "code",
   "execution_count": 86,
   "metadata": {},
   "outputs": [
    {
     "name": "stdout",
     "output_type": "stream",
     "text": [
      "---Gradient Boosting Classifier 1506.4143109321594 seconds ---\n",
      "                    precision    recall  f1-score   support\n",
      "\n",
      "            LAYING       1.00      1.00      1.00       537\n",
      "           SITTING       0.93      0.89      0.91       491\n",
      "          STANDING       0.90      0.94      0.92       532\n",
      "           WALKING       0.94      0.97      0.96       496\n",
      "WALKING_DOWNSTAIRS       0.98      0.93      0.96       420\n",
      "  WALKING_UPSTAIRS       0.92      0.94      0.93       471\n",
      "\n",
      "       avg / total       0.95      0.95      0.95      2947\n",
      "\n",
      "[0.89145183 0.89734874 0.9122449  0.90605854 0.93051771]\n",
      "mean = 0.908\n"
     ]
    }
   ],
   "source": [
    "\n",
    "start_time = time.time()\n",
    "# We'll make 500 iterations, use 2-deep trees, and set our loss function.\n",
    "params = {'n_estimators': 500,\n",
    "          'random_state': 42,\n",
    "          'max_depth': 2,\n",
    "          'loss': 'deviance'}\n",
    "\n",
    "# Initialize and fit the model.\n",
    "clf = ensemble.GradientBoostingClassifier(**params)\n",
    "clf.fit(X_train, y_train)\n",
    "\n",
    "\n",
    "clf_cv = cross_val_score(clf, X_train, y_train, cv=5)\n",
    "\n",
    "print(\"---Gradient Boosting Classifier %s seconds ---\" % (time.time() - start_time))\n",
    "#Test\n",
    "y_true, y_pred = y_test, clf.predict(X_test)\n",
    "print(classification_report(y_true, y_pred))\n",
    "\n",
    "print(cv1)\n",
    "print(\"mean = {:.3}\".format(cv1.mean()))"
   ]
  },
  {
   "cell_type": "code",
   "execution_count": 87,
   "metadata": {},
   "outputs": [],
   "source": [
    "#Creating a dataframe to examine the tresholds need to run new RFCs\n",
    "\n",
    "GB_feature_importances = pd.DataFrame(clf.feature_importances_,\n",
    "                                   index = X_train.columns,\n",
    "                                    columns=['importance']).sort_values('importance', ascending=False)"
   ]
  },
  {
   "cell_type": "code",
   "execution_count": 88,
   "metadata": {},
   "outputs": [
    {
     "data": {
      "text/plain": [
       "<matplotlib.axes._subplots.AxesSubplot at 0x213c9f66c18>"
      ]
     },
     "execution_count": 88,
     "metadata": {},
     "output_type": "execute_result"
    },
    {
     "data": {
      "image/png": "[encoded data removed]",
      "text/plain": [
       "<Figure size 432x288 with 1 Axes>"
      ]
     },
     "metadata": {},
     "output_type": "display_data"
    }
   ],
   "source": [
    "GB_feature_graph = GB_feature_importances['importance'].nlargest(10)\n",
    "plt.xlabel('Relative importance', fontsize=15)\n",
    "plt.ylabel('Feature', fontsize=15)\n",
    "plt.title(\"GBM Feature Importance\", fontsize=20)\n",
    "GB_feature_graph.plot.barh()"
   ]
  },
  {
   "cell_type": "code",
   "execution_count": 89,
   "metadata": {},
   "outputs": [
    {
     "ename": "AttributeError",
     "evalue": "'GradientBoostingClassifier' object has no attribute 'n_outputs_'",
     "output_type": "error",
     "traceback": [
      "\u001b[1;31m---------------------------------------------------------------------------\u001b[0m",
      "\u001b[1;31mAttributeError\u001b[0m                            Traceback (most recent call last)",
      "\u001b[1;32m<ipython-input-89-c8cf29083c5b>\u001b[0m in \u001b[0;36m<module>\u001b[1;34m()\u001b[0m\n\u001b[1;32m----> 1\u001b[1;33m \u001b[0mclf\u001b[0m\u001b[1;33m.\u001b[0m\u001b[0mn_outputs_\u001b[0m\u001b[1;33m\u001b[0m\u001b[0m\n\u001b[0m",
      "\u001b[1;31mAttributeError\u001b[0m: 'GradientBoostingClassifier' object has no attribute 'n_outputs_'"
     ]
    }
   ],
   "source": [
    "clf.n_outputs_ "
   ]
  },
  {
   "cell_type": "markdown",
   "metadata": {},
   "source": [
    "## Support Vector Classifier Run with top performing RFC vars"
   ]
  },
  {
   "cell_type": "code",
   "execution_count": 55,
   "metadata": {},
   "outputs": [
    {
     "name": "stdout",
     "output_type": "stream",
     "text": [
      "Report:\n",
      "                    precision    recall  f1-score   support\n",
      "\n",
      "            LAYING       1.00      1.00      1.00       537\n",
      "           SITTING       0.96      0.89      0.92       491\n",
      "          STANDING       0.91      0.97      0.94       532\n",
      "           WALKING       0.96      0.99      0.97       496\n",
      "WALKING_DOWNSTAIRS       0.99      0.98      0.98       420\n",
      "  WALKING_UPSTAIRS       0.98      0.96      0.97       471\n",
      "\n",
      "       avg / total       0.96      0.96      0.96      2947\n",
      "\n",
      "---SVM 4.152885437011719 seconds ---\n"
     ]
    }
   ],
   "source": [
    "from sklearn.metrics import confusion_matrix\n",
    "start_time = time.time()\n",
    "from sklearn.svm import SVC\n",
    "svm = SVC(kernel='linear')\n",
    "svm.fit(X_train,y_train)\n",
    "\n",
    "print(\"Report:\")\n",
    "y_true, y_pred = y_test, svm.predict(X_test)\n",
    "print(classification_report(y_true, y_pred))\n",
    "confusion_matrix(y_true, y_pred)\n",
    "\n",
    "print(\"---SVM %s seconds ---\" % (time.time() - start_time))"
   ]
  },
  {
   "cell_type": "code",
   "execution_count": 56,
   "metadata": {},
   "outputs": [],
   "source": []
  },
  {
   "cell_type": "code",
   "execution_count": null,
   "metadata": {},
   "outputs": [],
   "source": []
  },
  {
   "cell_type": "code",
   "execution_count": null,
   "metadata": {},
   "outputs": [],
   "source": []
  },
  {
   "cell_type": "code",
   "execution_count": null,
   "metadata": {},
   "outputs": [],
   "source": []
  }
 ],
 "metadata": {
  "kernelspec": {
   "display_name": "Python 3",
   "language": "python",
   "name": "python3"
  },
  "language_info": {
   "codemirror_mode": {
    "name": "ipython",
    "version": 3
   },
   "file_extension": ".py",
   "mimetype": "text/x-python",
   "name": "python",
   "nbconvert_exporter": "python",
   "pygments_lexer": "ipython3",
   "version": "3.6.5"
  }
 },
 "nbformat": 4,
 "nbformat_minor": 2
}
